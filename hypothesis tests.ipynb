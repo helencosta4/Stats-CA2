{
 "cells": [
  {
   "cell_type": "markdown",
   "id": "cd179eaa-7b72-44fb-8bb9-64049c940d0f",
   "metadata": {},
   "source": [
    "in order to perfom the hypothesis tests we need\n",
    "1. State the null (H_0) and alternative (H_1) hypothesis\n",
    "2.finde the critical value.\n",
    "3. calculete the z test \"Statistical \n",
    "4. fi"
   ]
  }
 ],
 "metadata": {
  "kernelspec": {
   "display_name": "Python 3 (ipykernel)",
   "language": "python",
   "name": "python3"
  },
  "language_info": {
   "codemirror_mode": {
    "name": "ipython",
    "version": 3
   },
   "file_extension": ".py",
   "mimetype": "text/x-python",
   "name": "python",
   "nbconvert_exporter": "python",
   "pygments_lexer": "ipython3",
   "version": "3.11.7"
  }
 },
 "nbformat": 4,
 "nbformat_minor": 5
}
