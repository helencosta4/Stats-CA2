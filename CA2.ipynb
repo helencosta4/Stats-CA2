{
 "cells": [
  {
   "cell_type": "markdown",
   "id": "e3c1f94e-6724-4598-9ea3-9fbdd44b928c",
   "metadata": {},
   "source": [
    "### Hypothesis tests"
   ]
  },
  {
   "cell_type": "markdown",
   "id": "351ff883-220c-429e-8d07-1ddc91f15a54",
   "metadata": {},
   "source": [
    "Task 1:\n",
    "Load the dataset Q1.csv. It contains the exam scores (in percentages) of a sample of 50 students \r\n",
    "from a Dublin secondary school.\n",
    "For task 1, we want to test the hypothesis that the teacher's suspicion that the average is below the national average of 70%. So, in this case, we want to analyze two averages of the same population.\n",
    "\n",
    "The first step is to analyze if it is different from the population average and for this, it is important to choose an appropriate statistical test.\n",
    " Defining hypothesis:\n",
    " 1. State the Null Hypothesis $H_0: \\mu = 70$\n",
    " 2. Alternative Hypothesis $H_A: \\mu \\neq 70$\n",
    "\n",
    "Before choosing the appropriate hypothesis test, it is necessary to test the normality of the data distribution. In some statistical tests, if the distribution of data, errors or differences is not normal, it is necessary to do some kind of transformation or use a non-parametric version (Mello, 2012). Verifying normality of distribution is a requirement for running several of the well-known statistical tests such as Student’s t-test and ANOVA (Biostats, n.d.). ndings."
   ]
  },
  {
   "cell_type": "code",
   "execution_count": 56,
   "id": "14e189ed-d2ef-4a34-9d26-bc6bb43f9d49",
   "metadata": {},
   "outputs": [],
   "source": [
    "import pandas as pd\n",
    "import matplotlib.pyplot as plt\n",
    "import seaborn as sns\n",
    "import math\n",
    "import statistics\n",
    "import scipy.stats as stats\n",
    "import numpy as np\n",
    "from scipy import stats\n",
    "import warnings\n",
    "warnings.filterwarnings(\"ignore\")"
   ]
  },
  {
   "cell_type": "code",
   "execution_count": 57,
   "id": "3ccdccaa-d199-457a-82a5-d8a80c7ab739",
   "metadata": {},
   "outputs": [],
   "source": [
    "df = pd.read_csv(\"Q1.csv\")"
   ]
  },
  {
   "cell_type": "code",
   "execution_count": 28,
   "id": "ab0e98dd-5770-4329-b2be-49fc2e16e0b9",
   "metadata": {},
   "outputs": [
    {
     "data": {
      "text/html": [
       "<div>\n",
       "<style scoped>\n",
       "    .dataframe tbody tr th:only-of-type {\n",
       "        vertical-align: middle;\n",
       "    }\n",
       "\n",
       "    .dataframe tbody tr th {\n",
       "        vertical-align: top;\n",
       "    }\n",
       "\n",
       "    .dataframe thead th {\n",
       "        text-align: right;\n",
       "    }\n",
       "</style>\n",
       "<table border=\"1\" class=\"dataframe\">\n",
       "  <thead>\n",
       "    <tr style=\"text-align: right;\">\n",
       "      <th></th>\n",
       "      <th>exam_score</th>\n",
       "    </tr>\n",
       "  </thead>\n",
       "  <tbody>\n",
       "    <tr>\n",
       "      <th>0</th>\n",
       "      <td>74.54</td>\n",
       "    </tr>\n",
       "    <tr>\n",
       "      <th>1</th>\n",
       "      <td>66.20</td>\n",
       "    </tr>\n",
       "    <tr>\n",
       "      <th>2</th>\n",
       "      <td>86.75</td>\n",
       "    </tr>\n",
       "    <tr>\n",
       "      <th>3</th>\n",
       "      <td>70.87</td>\n",
       "    </tr>\n",
       "    <tr>\n",
       "      <th>4</th>\n",
       "      <td>80.43</td>\n",
       "    </tr>\n",
       "  </tbody>\n",
       "</table>\n",
       "</div>"
      ],
      "text/plain": [
       "   exam_score\n",
       "0       74.54\n",
       "1       66.20\n",
       "2       86.75\n",
       "3       70.87\n",
       "4       80.43"
      ]
     },
     "execution_count": 28,
     "metadata": {},
     "output_type": "execute_result"
    }
   ],
   "source": [
    "df.head()"
   ]
  },
  {
   "cell_type": "code",
   "execution_count": 29,
   "id": "6087e3c9-a5cc-4135-a67f-8f30201e92b1",
   "metadata": {},
   "outputs": [
    {
     "name": "stdout",
     "output_type": "stream",
     "text": [
      "<class 'pandas.core.frame.DataFrame'>\n",
      "RangeIndex: 50 entries, 0 to 49\n",
      "Data columns (total 1 columns):\n",
      " #   Column      Non-Null Count  Dtype  \n",
      "---  ------      --------------  -----  \n",
      " 0   exam_score  50 non-null     float64\n",
      "dtypes: float64(1)\n",
      "memory usage: 532.0 bytes\n"
     ]
    }
   ],
   "source": [
    "df.info()"
   ]
  },
  {
   "cell_type": "code",
   "execution_count": 30,
   "id": "4d667177-420d-408c-82fb-8479bdff87c4",
   "metadata": {},
   "outputs": [
    {
     "data": {
      "text/html": [
       "<div>\n",
       "<style scoped>\n",
       "    .dataframe tbody tr th:only-of-type {\n",
       "        vertical-align: middle;\n",
       "    }\n",
       "\n",
       "    .dataframe tbody tr th {\n",
       "        vertical-align: top;\n",
       "    }\n",
       "\n",
       "    .dataframe thead th {\n",
       "        text-align: right;\n",
       "    }\n",
       "</style>\n",
       "<table border=\"1\" class=\"dataframe\">\n",
       "  <thead>\n",
       "    <tr style=\"text-align: right;\">\n",
       "      <th></th>\n",
       "      <th>exam_score</th>\n",
       "    </tr>\n",
       "  </thead>\n",
       "  <tbody>\n",
       "    <tr>\n",
       "      <th>count</th>\n",
       "      <td>50.000000</td>\n",
       "    </tr>\n",
       "    <tr>\n",
       "      <th>mean</th>\n",
       "      <td>68.735600</td>\n",
       "    </tr>\n",
       "    <tr>\n",
       "      <th>std</th>\n",
       "      <td>9.750143</td>\n",
       "    </tr>\n",
       "    <tr>\n",
       "      <th>min</th>\n",
       "      <td>48.730000</td>\n",
       "    </tr>\n",
       "    <tr>\n",
       "      <th>25%</th>\n",
       "      <td>62.040000</td>\n",
       "    </tr>\n",
       "    <tr>\n",
       "      <th>50%</th>\n",
       "      <td>68.390000</td>\n",
       "    </tr>\n",
       "    <tr>\n",
       "      <th>75%</th>\n",
       "      <td>74.630000</td>\n",
       "    </tr>\n",
       "    <tr>\n",
       "      <th>max</th>\n",
       "      <td>87.360000</td>\n",
       "    </tr>\n",
       "  </tbody>\n",
       "</table>\n",
       "</div>"
      ],
      "text/plain": [
       "       exam_score\n",
       "count   50.000000\n",
       "mean    68.735600\n",
       "std      9.750143\n",
       "min     48.730000\n",
       "25%     62.040000\n",
       "50%     68.390000\n",
       "75%     74.630000\n",
       "max     87.360000"
      ]
     },
     "execution_count": 30,
     "metadata": {},
     "output_type": "execute_result"
    }
   ],
   "source": [
    "df.describe()"
   ]
  },
  {
   "cell_type": "markdown",
   "id": "595565cf-6985-474e-96fa-a7e6de66eb2a",
   "metadata": {},
   "source": [
    "cheking histogram\n",
    "primeiro vamos verificar se df tem normal distribution.\n"
   ]
  },
  {
   "cell_type": "code",
   "execution_count": 32,
   "id": "c58fc20b-67bb-4f4c-bf96-2217d2aa31e8",
   "metadata": {
    "scrolled": true
   },
   "outputs": [
    {
     "data": {
      "image/png": "[encoded data removed]",
      "text/plain": [
       "<Figure size 800x500 with 1 Axes>"
      ]
     },
     "metadata": {},
     "output_type": "display_data"
    }
   ],
   "source": [
    "plt.figure(figsize=(8,5))\n",
    "plt.hist(df['exam_score'])\n",
    "plt.show()\n",
    "#sns.displot(df['exam_score'], kde=True, color='skyblue')"
   ]
  },
  {
   "cell_type": "markdown",
   "id": "ad70a05b-7ddb-423a-b1aa-a512416fc002",
   "metadata": {},
   "source": [
    "De acordo com o histograma, os dados parecem ter uma distribuicao normal, mas confirmar isso, iremos realiza um teste estatistico para verificar.\n"
   ]
  },
  {
   "cell_type": "markdown",
   "id": "433c2200-d9fa-4ed2-90e3-de3be32d0821",
   "metadata": {},
   "source": [
    "Temos 4 principais Testes de Normalidade \n",
    "1. Shapiro-Wilk; \n",
    "2. Kolmogorov-Smirnov;\n",
    "3. Lilliefors; \n",
    "4. Anderson-Darlin\n",
    "   1. Shapiro-Wilk\n",
    "Shapiro-Wilk test is a hypothesis test that evaluates whether a data set is normally distributed. It evaluates data from a sample with the null hypothesis that the data set is normally distributed. A large p-value indicates the data set is normally distributed, a low p-value indicates that it isn’t normally distributed(Malato, 2023).\n",
    "    2. Kolmogorov-Smirnov\n",
    "This test compares the ECDF (empirical cumulative distribution function) of your sample data with the distribution expected if the data were normal. If this observed difference is adequately large, the test will reject the null hypothesis of population normality. If the p-value of this test is less than your chosen α, you can reject your null hypothesis and conclude that the population is nonnormal (support.minitab.com, n.d.).\n",
    "    3. Lilliefors\n",
    "The Lilliefors test is a variant of the Kolmogorov-Smirnov test that is specifically designed to test normality. It evaluates whether the data comes from a normal distribution by comparing the empirical distribution function of the data with the expected normal cumulative distribution function (RCODER, 2023).\n",
    "    4. \n",
    "The Anderson-Darling test has a similar objective to that of the Kolmogorov-Smirnov test, but it is more powerful. This is so since all the data values are considered, not just the one that produces the maximum difference. Also, more weight is given to the tails of the distribution being fitted. Generally, this test should be used instead of the Kolmogorov-Smirnov test (Real-statistics.com, 2024).\n",
    "\n",
    "\n",
    "The Shapiro–Wilk test is more appropriate method for small sample sizes (<50 samples) although it can also be handling on larger sample size while Kolmogorov–Smirnov test is used for n ≥50. For both of the above tests, null hypothesis states that data are taken from normal distributed population. When P > 0.05, null hypothesis accepted and data are called as normally distributed (Mishra et al., 2019)."
   ]
  },
  {
   "cell_type": "markdown",
   "id": "e75a6e05-ffda-4e7c-b910-b60a79e01c07",
   "metadata": {},
   "source": [
    "The Shapiro-Wilk test is a test of normality. It is used to determine whether or not a sample comes from a normal distribution(Zach, 2020)"
   ]
  },
  {
   "cell_type": "code",
   "execution_count": 33,
   "id": "f15dedbb-cda4-4922-8674-eead73c7ee65",
   "metadata": {
    "scrolled": true
   },
   "outputs": [
    {
     "name": "stdout",
     "output_type": "stream",
     "text": [
      "stat=0.98, p=0.655649244785308837890625000000\n",
      "normal distribution\n"
     ]
    }
   ],
   "source": [
    "from  scipy.stats import shapiro\n",
    "stat, p = shapiro(df['exam_score'])\n",
    "print ('stat=%.2f, p=%.30f' % (stat, p))\n",
    "if p > 0.05:\n",
    "    print('normal distribution')\n",
    "else:\n",
    "    print('Not a normal distribution')"
   ]
  },
  {
   "cell_type": "markdown",
   "id": "32a9979d-d767-4715-ad8b-8d297c35913c",
   "metadata": {},
   "source": [
    "Since the p-value is not less than 0.05, we fail to reject the null hypothesis, So the data comes from a normal distribution.\n",
    "with that we can choose the test of hipothesis"
   ]
  },
  {
   "cell_type": "markdown",
   "id": "1e49441d-921c-4a77-b573-e685bc14d083",
   "metadata": {},
   "source": []
  },
  {
   "cell_type": "markdown",
   "id": "af1a29f6-e490-43a7-9cc8-ffd440fed9b4",
   "metadata": {},
   "source": [
    "Identify outliers"
   ]
  },
  {
   "cell_type": "code",
   "execution_count": 35,
   "id": "dbaa222f-d8dd-4704-8ae8-6cc5bcb1f634",
   "metadata": {},
   "outputs": [
    {
     "data": {
      "text/plain": [
       "<Axes: >"
      ]
     },
     "execution_count": 35,
     "metadata": {},
     "output_type": "execute_result"
    },
    {
     "data": {
      "image/png": "[encoded data removed]",
      "text/plain": [
       "<Figure size 640x480 with 1 Axes>"
      ]
     },
     "metadata": {},
     "output_type": "display_data"
    }
   ],
   "source": [
    "sns.boxplot(df['exam_score'])"
   ]
  },
  {
   "cell_type": "code",
   "execution_count": 36,
   "id": "e25fa206-b528-4ecb-878e-579141b6e108",
   "metadata": {
    "scrolled": true
   },
   "outputs": [
    {
     "data": {
      "text/plain": [
       "68.73559999999999"
      ]
     },
     "execution_count": 36,
     "metadata": {},
     "output_type": "execute_result"
    }
   ],
   "source": [
    "df['exam_score'].mean()"
   ]
  },
  {
   "cell_type": "markdown",
   "id": "d9db6400-8b34-498f-b861-dcc34c15591f",
   "metadata": {},
   "source": [
    "    \n",
    "    The sample mean is different from 70, but this is not sufficient evidence to prove that the population mean is not 70! \n",
    "\n",
    "Use a one-sample t test to compare a sample mean to a reference value. It allows you to determine whether the population mean differs from the reference value. The reference value is usually highly relevant to the subject area(Frost, n.d.).\n",
    "\n",
    "Considering that we have a normal distribution a one-sample t-test can be used.\n",
    " .\n",
    "\n",
    "Perform a Hypothesis:\n",
    "\n",
    "1. State the null $H_0: \\mu = 70$ vs $H_A: \\mu \\neq 70$\n",
    "\n",
    "the level of significance $\\alpha$ = 0.05"
   ]
  },
  {
   "cell_type": "markdown",
   "id": "1555b6b8-0771-426f-9e46-bf2648bb1931",
   "metadata": {},
   "source": [
    "### One-Sample T-test"
   ]
  },
  {
   "cell_type": "code",
   "execution_count": 47,
   "id": "ccd9d643-2427-4ea3-85eb-944e513a632a",
   "metadata": {},
   "outputs": [
    {
     "name": "stdout",
     "output_type": "stream",
     "text": [
      "t-statistic: -0.9169771399834613\n",
      "p-value: 0.36364597032062806\n",
      "Fail to reject null hypothesis. The mean performance is not significantly different from the national average.\n"
     ]
    }
   ],
   "source": [
    "t_stat, p_value=stats.ttest_1samp(df['exam_score'], popmean= 70)\n",
    "\n",
    "print('t-statistic:', t_stat)\n",
    "print('p-value:', p_value)\n",
    "\n",
    "\n",
    "if p_value < 0.05:\n",
    "    print(\"Reject null hypothesis. The mean performance is significantly different from the national average.\")\n",
    "else:\n",
    "    print(\"Fail to reject null hypothesis. The mean performance is not significantly different from the national average.\")"
   ]
  },
  {
   "cell_type": "markdown",
   "id": "fd3e9eec-3d16-4a81-9f4f-c0903a48b67a",
   "metadata": {},
   "source": [
    "The p-value = 0.36\n",
    "\n",
    "If the p-value is $<$ $\\alpha$, we reject the $H_0$, if the p-value is $\\nless$ $\\alpha$ then we fail to reject the $H_0$\n",
    "\n",
    "Note in this case p-value is great than significance level $\\alpha$, so we faill to reject the null-hypothesis. The difference between the sample mean and the population mean value is not statistically significant."
   ]
  },
  {
   "cell_type": "markdown",
   "id": "a9e0b556-497c-41e6-890e-e5211a9c7b29",
   "metadata": {},
   "source": [
    "### Calculation manually\n"
   ]
  },
  {
   "cell_type": "code",
   "execution_count": 38,
   "id": "3ed513f4-030a-4e21-895d-5aebb24acaca",
   "metadata": {},
   "outputs": [
    {
     "name": "stdout",
     "output_type": "stream",
     "text": [
      "The test Statistic:  -0.9169771399834615\n"
     ]
    }
   ],
   "source": [
    "\n",
    "# assign the variables (metrics for ttest) and values\n",
    "xbar = df['exam_score'].mean() # sample mean \n",
    "mu = 70 # The expected mean or (population mean)\n",
    "s = statistics.stdev(df['exam_score']) # standard deviation \n",
    "n = len(df['exam_score']) # the sample size\n",
    "\n",
    "\n",
    "print(\"The test Statistic: \", (xbar - mu) / (s / math.sqrt(n)))"
   ]
  },
  {
   "cell_type": "code",
   "execution_count": 50,
   "id": "1066b0b6-d9ee-4c4c-8583-7f49a4d66b72",
   "metadata": {},
   "outputs": [
    {
     "name": "stdout",
     "output_type": "stream",
     "text": [
      "Critical value (two-tailed): 2.009575234489209\n"
     ]
    }
   ],
   "source": [
    "from scipy.stats import t\n",
    "\n",
    "#Degrees of freedom\n",
    "df = 50 - 1\n",
    "\n",
    "# significance level\n",
    "alpha = 0.05\n",
    "\n",
    "# Critical value of the t-test (two-tailed)\n",
    "t_critical = t.ppf(1 - alpha/2, df)\n",
    "\n",
    "print(\"Critical value (two-tailed):\", t_critical)\n"
   ]
  },
  {
   "cell_type": "markdown",
   "id": "3266e9d3-cde3-4341-b77e-fc68ca1eb889",
   "metadata": {},
   "source": [
    "Critical value is a cut-off value that is used to mark the start of a region where the test statistic, obtained in hypothesis testing, is unlikely to fall in. In hypothesis testing, the critical value is compared with the obtained test statistic to determine whether the null hypothesis has to be rejected or not(CueMath, n.d.).\n",
    "\n",
    "A two-tailed test, there will be two critical values. In this case, the T critical values are 2.0095 and -2.0095. If the T statistic is less than the critical value, we fail to reject the null hypothesis, otherwise if it is higher we accept the alternative hypothesis."
   ]
  },
  {
   "cell_type": "code",
   "execution_count": 55,
   "id": "d790754e-2665-4527-ad09-0160c5551686",
   "metadata": {},
   "outputs": [
    {
     "name": "stdout",
     "output_type": "stream",
     "text": [
      "We do not reject the null hypothesis. There is not enough evidence to conclude that the sample mean is different from the national mean.\n"
     ]
    }
   ],
   "source": [
    "# Test statistic\n",
    "t_statistic = -0.9169771399834615\n",
    "\n",
    "# Comparison with the critical value\n",
    "if abs(t_statistic) > t_critical:\n",
    "    print(\"We reject the null hypothesis. The sample mean is significantly different from the national mean.\")\n",
    "else:\n",
    "    print(\"We do not reject the null hypothesis. There is not enough evidence to conclude that the sample mean is different from the national mean.\")\n"
   ]
  },
  {
   "cell_type": "code",
   "execution_count": 39,
   "id": "042c335d-dcad-4ec3-b1d6-bf04ac7658ec",
   "metadata": {},
   "outputs": [
    {
     "data": {
      "image/png": "[encoded data removed]",
      "text/plain": [
       "<Figure size 640x480 with 1 Axes>"
      ]
     },
     "metadata": {},
     "output_type": "display_data"
    }
   ],
   "source": [
    "import matplotlib.pyplot as plt\n",
    "\n",
    "\n",
    "result = plt.hist(df['exam_score'], bins=7, color=\"c\", \n",
    "                  edgecolor=\"k\", alpha=0.65)\n",
    "\n",
    "# Add in the population mean and the sample mean\n",
    "plt.axvline(df['exam_score'].mean(), color=\"k\", linestyle=\"dashed\", \n",
    "            linewidth=2,  label='Sample Mean')# this is the verticle line parameters\n",
    "\n",
    "plt.axvline(mu, color=\"red\", linestyle=\"solid\", \n",
    "            linewidth=2, label='Population Mean')# the pop mean \n",
    "plt.legend()\n",
    "\n",
    "plt.show()"
   ]
  },
  {
   "cell_type": "code",
   "execution_count": 54,
   "id": "8df256f1-40a9-42d0-a95c-d6e19a23c18e",
   "metadata": {},
   "outputs": [
    {
     "data": {
      "image/png": "[encoded data removed]",
      "text/plain": [
       "<Figure size 1000x600 with 1 Axes>"
      ]
     },
     "metadata": {},
     "output_type": "display_data"
    }
   ],
   "source": [
    "import numpy as np\n",
    "import matplotlib.pyplot as plt\n",
    "import scipy.stats as stats\n",
    "\n",
    "# Degrees of freedom\n",
    "df = 50 - 1\n",
    "\n",
    "# Significance level\n",
    "alpha = 0.05\n",
    "\n",
    "# Critical value of the t-test (two-tailed)\n",
    "t_critical = stats.t.ppf(1 - alpha/2, df)\n",
    "\n",
    "# Range for the t-statistic\n",
    "t_values = np.linspace(-4, 4, 1000)\n",
    "\n",
    "# t-distribution\n",
    "t_dist = stats.t.pdf(t_values, df)\n",
    "\n",
    "# Plot the t-distribution\n",
    "plt.figure(figsize=(10, 6))\n",
    "plt.plot(t_values, t_dist, 'b-', label='t-distribution')\n",
    "\n",
    "# Shade the rejection regions\n",
    "plt.fill_between(t_values, 0, t_dist, where=(t_values < -t_critical), color='red', alpha=0.3, label='Rejection Region')\n",
    "plt.fill_between(t_values, 0, t_dist, where=(t_values > t_critical), color='red', alpha=0.3)\n",
    "\n",
    "# Plot the critical values\n",
    "plt.axvline(-t_critical, color='black', linestyle='--', linewidth=1)\n",
    "plt.axvline(t_critical, color='black', linestyle='--', linewidth=1, label='Critical Values')\n",
    "\n",
    "# Plot the test statistic\n",
    "plt.axvline(t_statistic, color='green', linestyle='--', linewidth=1, label='Test Statistic')\n",
    "\n",
    "# Add labels and legend\n",
    "plt.xlabel('t-value')\n",
    "plt.ylabel('Probability Density')\n",
    "plt.title('t-Distribution with Rejection Region')\n",
    "plt.legend()\n",
    "\n",
    "# Show plot\n",
    "plt.grid(True)\n",
    "plt.show()\n"
   ]
  },
  {
   "cell_type": "markdown",
   "id": "9f8dfe0b-064d-446f-a86d-47f84afda0f8",
   "metadata": {},
   "source": [
    "With the graph, we can see that the T statistic is outside the rejection zone since it has a value of -0.9169771399834615."
   ]
  },
  {
   "cell_type": "code",
   "execution_count": null,
   "id": "a62ac2b8-4fa1-4647-96df-8975e35ec60a",
   "metadata": {},
   "outputs": [],
   "source": []
  },
  {
   "cell_type": "code",
   "execution_count": null,
   "id": "b2709723-3250-4532-b8fd-e39f610f383a",
   "metadata": {},
   "outputs": [],
   "source": []
  },
  {
   "cell_type": "code",
   "execution_count": null,
   "id": "93ca8433-04b5-4130-8640-a68d9e1d4128",
   "metadata": {},
   "outputs": [],
   "source": []
  },
  {
   "cell_type": "code",
   "execution_count": null,
   "id": "22d0a7d6-85c7-4af9-b21d-7efebeaa8f37",
   "metadata": {},
   "outputs": [],
   "source": []
  },
  {
   "cell_type": "code",
   "execution_count": null,
   "id": "8c8c94a1-49d1-47c9-8695-e02a62896343",
   "metadata": {},
   "outputs": [],
   "source": []
  },
  {
   "cell_type": "code",
   "execution_count": null,
   "id": "eef6ae77-5c4f-46cd-9a27-49ca3eeb2f19",
   "metadata": {},
   "outputs": [],
   "source": []
  },
  {
   "cell_type": "markdown",
   "id": "b54025c5-ce4b-4026-be59-9ea749ad58e6",
   "metadata": {},
   "source": [
    "References\n",
    "\n",
    "Frost, J. (n.d.). T Test Overview: How to Use & Examples. [online] Statistics By Jim. Available at: https://statisticsbyjim.com/hypothesis-testing/t-test/ [Accessed 10 May 2024].\n",
    "\n",
    "Zach (2020). How to Perform a Shapiro-Wilk Test in Python. [online] Statology. Available at: https://www.statology.org/shapiro-wilk-test-python/ [Accessed 10 May 2024].\n",
    "\n",
    "Mello, M. (2012). Qual teste estatístico devo usar? [online] Sobrevivendo na Ciência. Available at: https://marcoarmello.wordpress.com/2012/05/17/qualteste/ [Accessed 11 May 2024].\n",
    "\n",
    "Biostats. (n.d.). Test for normality – Shapiro-Wilk test – bioST@TS. [online] Available at: https://biostats.w.uib.no/test-for-normality-shapiro-wilks-test/ [Accessed 11 May 2024].\n",
    "\n",
    "Malato, G. (2023). An Introduction to the Shapiro-Wilk Test for Normality | Built In. [online] builtin.com. Available at: https://builtin.com/data-science/shapiro-wilk-test [Accessed 11 May 2024].\n",
    "\n",
    "RCODER. (2023). Lilliefors normality test in R. [online] Available at: https://r-coder.com/lilliefors-test-r/ [Accessed 11 May 2024].\n",
    "\n",
    "Real-statistics.com. (2024). One-Sample Anderson-Darling Test. [online] Available at: https://real-statistics.com/non-parametric-tests/goodness-of-fit-tests/anderson-darling-test/ [Accessed 11 May 2024].\n",
    "\n",
    "Mishra, P., Pandey, C.M., Singh, U., Sahu, C., Keshri, A. and Gupta, A. (2019). Descriptive Statistics and Normality Tests for Statistical Data. Annals of Cardiac Anaesthesia, [online] 22(1), pp.67–72. doi:https://doi.org/10.4103%2Faca.ACA_157_18.\n",
    "\n",
    "CueMath (n.d.). Critical Value - Formula, Definition, Examples, Types. [online] Cuemath. Available at: https://www.cuemath.com/data/critical-value/ [Accessed 11 May 2024]."
   ]
  }
 ],
 "metadata": {
  "kernelspec": {
   "display_name": "Python 3 (ipykernel)",
   "language": "python",
   "name": "python3"
  },
  "language_info": {
   "codemirror_mode": {
    "name": "ipython",
    "version": 3
   },
   "file_extension": ".py",
   "mimetype": "text/x-python",
   "name": "python",
   "nbconvert_exporter": "python",
   "pygments_lexer": "ipython3",
   "version": "3.11.7"
  }
 },
 "nbformat": 4,
 "nbformat_minor": 5
}
