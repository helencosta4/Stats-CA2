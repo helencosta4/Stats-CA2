{
 "cells": [
  {
   "cell_type": "markdown",
   "id": "e3c1f94e-6724-4598-9ea3-9fbdd44b928c",
   "metadata": {},
   "source": [
    "### Hypothesis tests"
   ]
  },
  {
   "cell_type": "markdown",
   "id": "351ff883-220c-429e-8d07-1ddc91f15a54",
   "metadata": {},
   "source": [
    "### Task 1:\n",
    "Load the dataset Q1.csv. It contains the exam scores (in percentages) of a sample of 50 students \r\n",
    "from a Dublin secondary school.\n",
    "For task 1, we want to test the hypothesis that the teacher's suspicion that the average is below the national average of 70%. So, in this case, we want to analyze two averages of the same population.\n",
    "\n",
    "The first step is to analyze if it is different from the population average and for this, it is important to choose an appropriate statistical test.\n",
    " Defining hypothesis:\n",
    " 1. State the Null Hypothesis $H_0: \\mu = 70$\n",
    " 2. Alternative Hypothesis $H_A: \\mu \\neq 70$\n",
    "\n",
    "Before choosing the appropriate hypothesis test, it is necessary to test the normality of the data distribution. In some statistical tests, if the distribution of data, errors or differences is not normal, it is necessary to do some kind of transformation or use a non-parametric version (Mello, 2012). Verifying normality of distribution is a requirement for running several of the well-known statistical tests such as Student’s t-test and ANOVA (Biostats, n.d.). ndings."
   ]
  },
  {
   "cell_type": "code",
   "execution_count": 1,
   "id": "14e189ed-d2ef-4a34-9d26-bc6bb43f9d49",
   "metadata": {},
   "outputs": [],
   "source": [
    "import pandas as pd\n",
    "import matplotlib.pyplot as plt\n",
    "import seaborn as sns\n",
    "import math\n",
    "import statistics\n",
    "import scipy.stats as stats\n",
    "import numpy as np\n",
    "from scipy import stats\n",
    "import warnings\n",
    "warnings.filterwarnings(\"ignore\")"
   ]
  },
  {
   "cell_type": "code",
   "execution_count": 2,
   "id": "3ccdccaa-d199-457a-82a5-d8a80c7ab739",
   "metadata": {},
   "outputs": [],
   "source": [
    "df = pd.read_csv(\"Q1.csv\")"
   ]
  },
  {
   "cell_type": "code",
   "execution_count": 3,
   "id": "ab0e98dd-5770-4329-b2be-49fc2e16e0b9",
   "metadata": {},
   "outputs": [
    {
     "data": {
      "text/html": [
       "<div>\n",
       "<style scoped>\n",
       "    .dataframe tbody tr th:only-of-type {\n",
       "        vertical-align: middle;\n",
       "    }\n",
       "\n",
       "    .dataframe tbody tr th {\n",
       "        vertical-align: top;\n",
       "    }\n",
       "\n",
       "    .dataframe thead th {\n",
       "        text-align: right;\n",
       "    }\n",
       "</style>\n",
       "<table border=\"1\" class=\"dataframe\">\n",
       "  <thead>\n",
       "    <tr style=\"text-align: right;\">\n",
       "      <th></th>\n",
       "      <th>exam_score</th>\n",
       "    </tr>\n",
       "  </thead>\n",
       "  <tbody>\n",
       "    <tr>\n",
       "      <th>0</th>\n",
       "      <td>74.54</td>\n",
       "    </tr>\n",
       "    <tr>\n",
       "      <th>1</th>\n",
       "      <td>66.20</td>\n",
       "    </tr>\n",
       "    <tr>\n",
       "      <th>2</th>\n",
       "      <td>86.75</td>\n",
       "    </tr>\n",
       "    <tr>\n",
       "      <th>3</th>\n",
       "      <td>70.87</td>\n",
       "    </tr>\n",
       "    <tr>\n",
       "      <th>4</th>\n",
       "      <td>80.43</td>\n",
       "    </tr>\n",
       "  </tbody>\n",
       "</table>\n",
       "</div>"
      ],
      "text/plain": [
       "   exam_score\n",
       "0       74.54\n",
       "1       66.20\n",
       "2       86.75\n",
       "3       70.87\n",
       "4       80.43"
      ]
     },
     "execution_count": 3,
     "metadata": {},
     "output_type": "execute_result"
    }
   ],
   "source": [
    "df.head()"
   ]
  },
  {
   "cell_type": "code",
   "execution_count": 4,
   "id": "6087e3c9-a5cc-4135-a67f-8f30201e92b1",
   "metadata": {},
   "outputs": [
    {
     "name": "stdout",
     "output_type": "stream",
     "text": [
      "<class 'pandas.core.frame.DataFrame'>\n",
      "RangeIndex: 50 entries, 0 to 49\n",
      "Data columns (total 1 columns):\n",
      " #   Column      Non-Null Count  Dtype  \n",
      "---  ------      --------------  -----  \n",
      " 0   exam_score  50 non-null     float64\n",
      "dtypes: float64(1)\n",
      "memory usage: 532.0 bytes\n"
     ]
    }
   ],
   "source": [
    "df.info()"
   ]
  },
  {
   "cell_type": "code",
   "execution_count": 5,
   "id": "4d667177-420d-408c-82fb-8479bdff87c4",
   "metadata": {},
   "outputs": [
    {
     "data": {
      "text/html": [
       "<div>\n",
       "<style scoped>\n",
       "    .dataframe tbody tr th:only-of-type {\n",
       "        vertical-align: middle;\n",
       "    }\n",
       "\n",
       "    .dataframe tbody tr th {\n",
       "        vertical-align: top;\n",
       "    }\n",
       "\n",
       "    .dataframe thead th {\n",
       "        text-align: right;\n",
       "    }\n",
       "</style>\n",
       "<table border=\"1\" class=\"dataframe\">\n",
       "  <thead>\n",
       "    <tr style=\"text-align: right;\">\n",
       "      <th></th>\n",
       "      <th>exam_score</th>\n",
       "    </tr>\n",
       "  </thead>\n",
       "  <tbody>\n",
       "    <tr>\n",
       "      <th>count</th>\n",
       "      <td>50.000000</td>\n",
       "    </tr>\n",
       "    <tr>\n",
       "      <th>mean</th>\n",
       "      <td>68.735600</td>\n",
       "    </tr>\n",
       "    <tr>\n",
       "      <th>std</th>\n",
       "      <td>9.750143</td>\n",
       "    </tr>\n",
       "    <tr>\n",
       "      <th>min</th>\n",
       "      <td>48.730000</td>\n",
       "    </tr>\n",
       "    <tr>\n",
       "      <th>25%</th>\n",
       "      <td>62.040000</td>\n",
       "    </tr>\n",
       "    <tr>\n",
       "      <th>50%</th>\n",
       "      <td>68.390000</td>\n",
       "    </tr>\n",
       "    <tr>\n",
       "      <th>75%</th>\n",
       "      <td>74.630000</td>\n",
       "    </tr>\n",
       "    <tr>\n",
       "      <th>max</th>\n",
       "      <td>87.360000</td>\n",
       "    </tr>\n",
       "  </tbody>\n",
       "</table>\n",
       "</div>"
      ],
      "text/plain": [
       "       exam_score\n",
       "count   50.000000\n",
       "mean    68.735600\n",
       "std      9.750143\n",
       "min     48.730000\n",
       "25%     62.040000\n",
       "50%     68.390000\n",
       "75%     74.630000\n",
       "max     87.360000"
      ]
     },
     "execution_count": 5,
     "metadata": {},
     "output_type": "execute_result"
    }
   ],
   "source": [
    "df.describe()"
   ]
  },
  {
   "cell_type": "markdown",
   "id": "595565cf-6985-474e-96fa-a7e6de66eb2a",
   "metadata": {},
   "source": [
    "cheking histogram\n",
    "primeiro vamos verificar se df tem normal distribution.\n"
   ]
  },
  {
   "cell_type": "code",
   "execution_count": 6,
   "id": "c58fc20b-67bb-4f4c-bf96-2217d2aa31e8",
   "metadata": {
    "scrolled": true
   },
   "outputs": [
    {
     "data": {
      "image/png": "[encoded data removed]",
      "text/plain": [
       "<Figure size 800x500 with 1 Axes>"
      ]
     },
     "metadata": {},
     "output_type": "display_data"
    }
   ],
   "source": [
    "plt.figure(figsize=(8,5))\n",
    "plt.hist(df['exam_score'])\n",
    "plt.show()\n",
    "#sns.displot(df['exam_score'], kde=True, color='skyblue')"
   ]
  },
  {
   "cell_type": "markdown",
   "id": "ad70a05b-7ddb-423a-b1aa-a512416fc002",
   "metadata": {},
   "source": [
    "De acordo com o histograma, os dados parecem ter uma distribuicao normal, mas confirmar isso, iremos realiza um teste estatistico para verificar.\n"
   ]
  },
  {
   "cell_type": "markdown",
   "id": "433c2200-d9fa-4ed2-90e3-de3be32d0821",
   "metadata": {},
   "source": [
    "Temos 4 principais Testes de Normalidade \n",
    "1. Shapiro-Wilk; \n",
    "2. Kolmogorov-Smirnov;\n",
    "3. Lilliefors; \n",
    "4. Anderson-Darlin\n",
    "   1. Shapiro-Wilk\n",
    "Shapiro-Wilk test is a hypothesis test that evaluates whether a data set is normally distributed. It evaluates data from a sample with the null hypothesis that the data set is normally distributed. A large p-value indicates the data set is normally distributed, a low p-value indicates that it isn’t normally distributed(Malato, 2023).\n",
    "    2. Kolmogorov-Smirnov\n",
    "This test compares the ECDF (empirical cumulative distribution function) of your sample data with the distribution expected if the data were normal. If this observed difference is adequately large, the test will reject the null hypothesis of population normality. If the p-value of this test is less than your chosen α, you can reject your null hypothesis and conclude that the population is nonnormal (support.minitab.com, n.d.).\n",
    "    3. Lilliefors\n",
    "The Lilliefors test is a variant of the Kolmogorov-Smirnov test that is specifically designed to test normality. It evaluates whether the data comes from a normal distribution by comparing the empirical distribution function of the data with the expected normal cumulative distribution function (RCODER, 2023).\n",
    "    4. \n",
    "The Anderson-Darling test has a similar objective to that of the Kolmogorov-Smirnov test, but it is more powerful. This is so since all the data values are considered, not just the one that produces the maximum difference. Also, more weight is given to the tails of the distribution being fitted. Generally, this test should be used instead of the Kolmogorov-Smirnov test (Real-statistics.com, 2024).\n",
    "\n",
    "\n",
    "The Shapiro–Wilk test is more appropriate method for small sample sizes (<50 samples) although it can also be handling on larger sample size while Kolmogorov–Smirnov test is used for n ≥50. For both of the above tests, null hypothesis states that data are taken from normal distributed population. When P > 0.05, null hypothesis accepted and data are called as normally distributed (Mishra et al., 2019)."
   ]
  },
  {
   "cell_type": "markdown",
   "id": "e75a6e05-ffda-4e7c-b910-b60a79e01c07",
   "metadata": {},
   "source": [
    "The Shapiro-Wilk test is a test of normality. It is used to determine whether or not a sample comes from a normal distribution(Zach, 2020)"
   ]
  },
  {
   "cell_type": "code",
   "execution_count": 7,
   "id": "f15dedbb-cda4-4922-8674-eead73c7ee65",
   "metadata": {
    "scrolled": true
   },
   "outputs": [
    {
     "name": "stdout",
     "output_type": "stream",
     "text": [
      "stat=0.98, p=0.655649244785308837890625000000\n",
      "normal distribution\n"
     ]
    }
   ],
   "source": [
    "from  scipy.stats import shapiro\n",
    "stat, p = shapiro(df['exam_score'])\n",
    "print ('stat=%.2f, p=%.30f' % (stat, p))\n",
    "if p > 0.05:\n",
    "    print('normal distribution')\n",
    "else:\n",
    "    print('Not a normal distribution')"
   ]
  },
  {
   "cell_type": "markdown",
   "id": "32a9979d-d767-4715-ad8b-8d297c35913c",
   "metadata": {},
   "source": [
    "Since the p-value is not less than 0.05, we fail to reject the null hypothesis, So the data comes from a normal distribution.\n",
    "with that we can choose the test of hipothesis"
   ]
  },
  {
   "cell_type": "markdown",
   "id": "1e49441d-921c-4a77-b573-e685bc14d083",
   "metadata": {},
   "source": []
  },
  {
   "cell_type": "markdown",
   "id": "af1a29f6-e490-43a7-9cc8-ffd440fed9b4",
   "metadata": {},
   "source": [
    "Identify outliers"
   ]
  },
  {
   "cell_type": "code",
   "execution_count": 8,
   "id": "dbaa222f-d8dd-4704-8ae8-6cc5bcb1f634",
   "metadata": {},
   "outputs": [
    {
     "data": {
      "text/plain": [
       "<Axes: >"
      ]
     },
     "execution_count": 8,
     "metadata": {},
     "output_type": "execute_result"
    },
    {
     "data": {
      "image/png": "[encoded data removed]",
      "text/plain": [
       "<Figure size 640x480 with 1 Axes>"
      ]
     },
     "metadata": {},
     "output_type": "display_data"
    }
   ],
   "source": [
    "sns.boxplot(df['exam_score'])"
   ]
  },
  {
   "cell_type": "code",
   "execution_count": 9,
   "id": "e25fa206-b528-4ecb-878e-579141b6e108",
   "metadata": {
    "scrolled": true
   },
   "outputs": [
    {
     "data": {
      "text/plain": [
       "68.73559999999999"
      ]
     },
     "execution_count": 9,
     "metadata": {},
     "output_type": "execute_result"
    }
   ],
   "source": [
    "df['exam_score'].mean()"
   ]
  },
  {
   "cell_type": "markdown",
   "id": "d9db6400-8b34-498f-b861-dcc34c15591f",
   "metadata": {},
   "source": [
    "    \n",
    "    The sample mean is different from 70, but this is not sufficient evidence to prove that the population mean is not 70! \n",
    "\n",
    "Use a one-sample t test to compare a sample mean to a reference value. It allows you to determine whether the population mean differs from the reference value. The reference value is usually highly relevant to the subject area(Frost, n.d.).\n",
    "\n",
    "Considering that we have a normal distribution a one-sample t-test can be used.\n",
    " .\n",
    "\n",
    "Perform a Hypothesis:\n",
    "\n",
    "1. State the null $H_0: \\mu = 70$ vs $H_A: \\mu \\neq 70$\n",
    "\n",
    "the level of significance $\\alpha$ = 0.05"
   ]
  },
  {
   "cell_type": "markdown",
   "id": "1555b6b8-0771-426f-9e46-bf2648bb1931",
   "metadata": {},
   "source": [
    "### One-Sample T-test"
   ]
  },
  {
   "cell_type": "code",
   "execution_count": 10,
   "id": "ccd9d643-2427-4ea3-85eb-944e513a632a",
   "metadata": {},
   "outputs": [
    {
     "name": "stdout",
     "output_type": "stream",
     "text": [
      "t-statistic: -0.9169771399834613\n",
      "p-value: 0.36364597032062806\n",
      "Fail to reject null hypothesis. The mean performance is not significantly different from the national average.\n"
     ]
    }
   ],
   "source": [
    "t_stat, p_value=stats.ttest_1samp(df['exam_score'], popmean= 70)\n",
    "\n",
    "print('t-statistic:', t_stat)\n",
    "print('p-value:', p_value)\n",
    "\n",
    "\n",
    "if p_value < 0.05:\n",
    "    print(\"Reject null hypothesis. The mean performance is significantly different from the national average.\")\n",
    "else:\n",
    "    print(\"Fail to reject null hypothesis. The mean performance is not significantly different from the national average.\")"
   ]
  },
  {
   "cell_type": "markdown",
   "id": "fd3e9eec-3d16-4a81-9f4f-c0903a48b67a",
   "metadata": {},
   "source": [
    "The p-value = 0.36\n",
    "\n",
    "If the p-value is $<$ $\\alpha$, we reject the $H_0$, if the p-value is $\\nless$ $\\alpha$ then we fail to reject the $H_0$\n",
    "\n",
    "Note in this case p-value is great than significance level $\\alpha$, so we faill to reject the null-hypothesis. The difference between the sample mean and the population mean value is not statistically significant."
   ]
  },
  {
   "cell_type": "markdown",
   "id": "a9e0b556-497c-41e6-890e-e5211a9c7b29",
   "metadata": {},
   "source": [
    "### Calculation manually\n"
   ]
  },
  {
   "cell_type": "code",
   "execution_count": 11,
   "id": "3ed513f4-030a-4e21-895d-5aebb24acaca",
   "metadata": {},
   "outputs": [
    {
     "name": "stdout",
     "output_type": "stream",
     "text": [
      "The test Statistic:  -0.9169771399834615\n"
     ]
    }
   ],
   "source": [
    "\n",
    "# assign the variables (metrics for ttest) and values\n",
    "xbar = df['exam_score'].mean() # sample mean \n",
    "mu = 70 # The expected mean or (population mean)\n",
    "s = statistics.stdev(df['exam_score']) # standard deviation \n",
    "n = len(df['exam_score']) # the sample size\n",
    "\n",
    "\n",
    "print(\"The test Statistic: \", (xbar - mu) / (s / math.sqrt(n)))"
   ]
  },
  {
   "cell_type": "code",
   "execution_count": 12,
   "id": "1066b0b6-d9ee-4c4c-8583-7f49a4d66b72",
   "metadata": {},
   "outputs": [
    {
     "name": "stdout",
     "output_type": "stream",
     "text": [
      "Critical value (two-tailed): 2.009575234489209\n"
     ]
    }
   ],
   "source": [
    "from scipy.stats import t\n",
    "\n",
    "#Degrees of freedom\n",
    "df = 50 - 1\n",
    "\n",
    "# significance level\n",
    "alpha = 0.05\n",
    "\n",
    "# Critical value of the t-test (two-tailed)\n",
    "t_critical = t.ppf(1 - alpha/2, df)\n",
    "\n",
    "print(\"Critical value (two-tailed):\", t_critical)\n"
   ]
  },
  {
   "cell_type": "markdown",
   "id": "3266e9d3-cde3-4341-b77e-fc68ca1eb889",
   "metadata": {},
   "source": [
    "Critical value is a cut-off value that is used to mark the start of a region where the test statistic, obtained in hypothesis testing, is unlikely to fall in. In hypothesis testing, the critical value is compared with the obtained test statistic to determine whether the null hypothesis has to be rejected or not(CueMath, n.d.).\n",
    "\n",
    "A two-tailed test, there will be two critical values. In this case, the T critical values are 2.0095 and -2.0095. If the T statistic is less than the critical value, we fail to reject the null hypothesis, otherwise if it is higher we accept the alternative hypothesis."
   ]
  },
  {
   "cell_type": "code",
   "execution_count": 13,
   "id": "d790754e-2665-4527-ad09-0160c5551686",
   "metadata": {},
   "outputs": [
    {
     "name": "stdout",
     "output_type": "stream",
     "text": [
      "We do not reject the null hypothesis. There is not enough evidence to conclude that the sample mean is different from the national mean.\n"
     ]
    }
   ],
   "source": [
    "# Test statistic\n",
    "t_statistic = -0.9169771399834615\n",
    "\n",
    "# Comparison with the critical value\n",
    "if abs(t_statistic) > t_critical:\n",
    "    print(\"We reject the null hypothesis. The sample mean is significantly different from the national mean.\")\n",
    "else:\n",
    "    print(\"We do not reject the null hypothesis. There is not enough evidence to conclude that the sample mean is different from the national mean.\")\n"
   ]
  },
  {
   "cell_type": "code",
   "execution_count": 14,
   "id": "042c335d-dcad-4ec3-b1d6-bf04ac7658ec",
   "metadata": {},
   "outputs": [
    {
     "ename": "TypeError",
     "evalue": "'int' object is not subscriptable",
     "output_type": "error",
     "traceback": [
      "\u001b[1;31m---------------------------------------------------------------------------\u001b[0m",
      "\u001b[1;31mTypeError\u001b[0m                                 Traceback (most recent call last)",
      "Cell \u001b[1;32mIn[14], line 4\u001b[0m\n\u001b[0;32m      1\u001b[0m \u001b[38;5;28;01mimport\u001b[39;00m \u001b[38;5;21;01mmatplotlib\u001b[39;00m\u001b[38;5;21;01m.\u001b[39;00m\u001b[38;5;21;01mpyplot\u001b[39;00m \u001b[38;5;28;01mas\u001b[39;00m \u001b[38;5;21;01mplt\u001b[39;00m\n\u001b[1;32m----> 4\u001b[0m result \u001b[38;5;241m=\u001b[39m plt\u001b[38;5;241m.\u001b[39mhist(df[\u001b[38;5;124m'\u001b[39m\u001b[38;5;124mexam_score\u001b[39m\u001b[38;5;124m'\u001b[39m], bins\u001b[38;5;241m=\u001b[39m\u001b[38;5;241m7\u001b[39m, color\u001b[38;5;241m=\u001b[39m\u001b[38;5;124m\"\u001b[39m\u001b[38;5;124mc\u001b[39m\u001b[38;5;124m\"\u001b[39m, \n\u001b[0;32m      5\u001b[0m                   edgecolor\u001b[38;5;241m=\u001b[39m\u001b[38;5;124m\"\u001b[39m\u001b[38;5;124mk\u001b[39m\u001b[38;5;124m\"\u001b[39m, alpha\u001b[38;5;241m=\u001b[39m\u001b[38;5;241m0.65\u001b[39m)\n\u001b[0;32m      7\u001b[0m \u001b[38;5;66;03m# Add in the population mean and the sample mean\u001b[39;00m\n\u001b[0;32m      8\u001b[0m plt\u001b[38;5;241m.\u001b[39maxvline(df[\u001b[38;5;124m'\u001b[39m\u001b[38;5;124mexam_score\u001b[39m\u001b[38;5;124m'\u001b[39m]\u001b[38;5;241m.\u001b[39mmean(), color\u001b[38;5;241m=\u001b[39m\u001b[38;5;124m\"\u001b[39m\u001b[38;5;124mk\u001b[39m\u001b[38;5;124m\"\u001b[39m, linestyle\u001b[38;5;241m=\u001b[39m\u001b[38;5;124m\"\u001b[39m\u001b[38;5;124mdashed\u001b[39m\u001b[38;5;124m\"\u001b[39m, \n\u001b[0;32m      9\u001b[0m             linewidth\u001b[38;5;241m=\u001b[39m\u001b[38;5;241m2\u001b[39m,  label\u001b[38;5;241m=\u001b[39m\u001b[38;5;124m'\u001b[39m\u001b[38;5;124mSample Mean\u001b[39m\u001b[38;5;124m'\u001b[39m)\u001b[38;5;66;03m# this is the verticle line parameters\u001b[39;00m\n",
      "\u001b[1;31mTypeError\u001b[0m: 'int' object is not subscriptable"
     ]
    }
   ],
   "source": [
    "import matplotlib.pyplot as plt\n",
    "\n",
    "\n",
    "result = plt.hist(df['exam_score'], bins=7, color=\"c\", \n",
    "                  edgecolor=\"k\", alpha=0.65)\n",
    "\n",
    "# Add in the population mean and the sample mean\n",
    "plt.axvline(df['exam_score'].mean(), color=\"k\", linestyle=\"dashed\", \n",
    "            linewidth=2,  label='Sample Mean')# this is the verticle line parameters\n",
    "\n",
    "plt.axvline(mu, color=\"red\", linestyle=\"solid\", \n",
    "            linewidth=2, label='Population Mean')# the pop mean \n",
    "plt.legend()\n",
    "\n",
    "plt.show()"
   ]
  },
  {
   "cell_type": "code",
   "execution_count": null,
   "id": "8df256f1-40a9-42d0-a95c-d6e19a23c18e",
   "metadata": {},
   "outputs": [],
   "source": [
    "import numpy as np\n",
    "import matplotlib.pyplot as plt\n",
    "import scipy.stats as stats\n",
    "\n",
    "# Degrees of freedom\n",
    "df = 50 - 1\n",
    "\n",
    "# Significance level\n",
    "alpha = 0.05\n",
    "\n",
    "# Critical value of the t-test (two-tailed)\n",
    "t_critical = stats.t.ppf(1 - alpha/2, df)\n",
    "\n",
    "# Range for the t-statistic\n",
    "t_values = np.linspace(-4, 4, 1000)\n",
    "\n",
    "# t-distribution\n",
    "t_dist = stats.t.pdf(t_values, df)\n",
    "\n",
    "# Plot the t-distribution\n",
    "plt.figure(figsize=(10, 6))\n",
    "plt.plot(t_values, t_dist, 'b-', label='t-distribution')\n",
    "\n",
    "# Shade the rejection regions\n",
    "plt.fill_between(t_values, 0, t_dist, where=(t_values < -t_critical), color='red', alpha=0.3, label='Rejection Region')\n",
    "plt.fill_between(t_values, 0, t_dist, where=(t_values > t_critical), color='red', alpha=0.3)\n",
    "\n",
    "# Plot the critical values\n",
    "plt.axvline(-t_critical, color='black', linestyle='--', linewidth=1)\n",
    "plt.axvline(t_critical, color='black', linestyle='--', linewidth=1, label='Critical Values')\n",
    "\n",
    "# Plot the test statistic\n",
    "plt.axvline(t_statistic, color='green', linestyle='--', linewidth=1, label='Test Statistic')\n",
    "\n",
    "# Add labels and legend\n",
    "plt.xlabel('t-value')\n",
    "plt.ylabel('Probability Density')\n",
    "plt.title('t-Distribution with Rejection Region')\n",
    "plt.legend()\n",
    "\n",
    "# Show plot\n",
    "plt.grid(True)\n",
    "plt.show()\n"
   ]
  },
  {
   "cell_type": "markdown",
   "id": "9f8dfe0b-064d-446f-a86d-47f84afda0f8",
   "metadata": {},
   "source": [
    "With the graph, we can see that the T statistic is outside the rejection zone since it has a value of -0.9169771399834615."
   ]
  },
  {
   "cell_type": "code",
   "execution_count": null,
   "id": "a62ac2b8-4fa1-4647-96df-8975e35ec60a",
   "metadata": {},
   "outputs": [],
   "source": []
  },
  {
   "cell_type": "markdown",
   "id": "3dc6be3f-14eb-4d84-9d13-097d2b476f42",
   "metadata": {},
   "source": [
    "### Task 2: "
   ]
  },
  {
   "cell_type": "code",
   "execution_count": null,
   "id": "93ca8433-04b5-4130-8640-a68d9e1d4128",
   "metadata": {},
   "outputs": [],
   "source": [
    "diamonds_df = pd.read_csv('diamonds.csv')"
   ]
  },
  {
   "cell_type": "code",
   "execution_count": null,
   "id": "22d0a7d6-85c7-4af9-b21d-7efebeaa8f37",
   "metadata": {},
   "outputs": [],
   "source": [
    "diamonds_df.head()"
   ]
  },
  {
   "cell_type": "code",
   "execution_count": null,
   "id": "8c8c94a1-49d1-47c9-8695-e02a62896343",
   "metadata": {},
   "outputs": [],
   "source": [
    "# Create a new binary variable for colorless diamonds\n",
    "diamonds_df['colourless'] = diamonds_df['color'].apply(lambda x: 1 if x in ['D', 'E', 'F'] else 0)\n"
   ]
  },
  {
   "cell_type": "code",
   "execution_count": null,
   "id": "eef6ae77-5c4f-46cd-9a27-49ca3eeb2f19",
   "metadata": {
    "scrolled": true
   },
   "outputs": [],
   "source": [
    "diamonds_df.head()"
   ]
  },
  {
   "cell_type": "code",
   "execution_count": null,
   "id": "a8d31be3-b353-4520-a82f-f7a6330d27ae",
   "metadata": {
    "scrolled": true
   },
   "outputs": [],
   "source": [
    "diamonds_df.describe()"
   ]
  },
  {
   "cell_type": "code",
   "execution_count": null,
   "id": "4e0015ad-41ca-441c-a069-b6a52fc0cd83",
   "metadata": {},
   "outputs": [],
   "source": [
    "diamonds_df.info()"
   ]
  },
  {
   "cell_type": "code",
   "execution_count": null,
   "id": "5ce4316b-5434-47d0-add7-949ba329c8fb",
   "metadata": {},
   "outputs": [],
   "source": [
    "plt.figure(figsize=(8,5))\n",
    "plt.hist(diamonds_df['clarity'])\n",
    "plt.show()"
   ]
  },
  {
   "cell_type": "markdown",
   "id": "dcd48f3c-942a-43af-abd9-e3807d40c063",
   "metadata": {},
   "source": [
    "A contingency table is a type of table that summarizes the relationship between two categorical variables. To create a contingency table in Python, we can use the pandas.crosstab() function (Zach, 2021)."
   ]
  },
  {
   "cell_type": "code",
   "execution_count": null,
   "id": "f660e52a-6df0-4ac9-bce6-e7035fe4fc0b",
   "metadata": {},
   "outputs": [],
   "source": [
    "#create the contingency table to colourless and clarity\n",
    "cont_table = pd.crosstab(diamonds_df['colourless'], diamonds_df['clarity']) #margins=True \n"
   ]
  },
  {
   "cell_type": "code",
   "execution_count": null,
   "id": "f2089e97-6475-48f6-a75d-af1ea2a52e7a",
   "metadata": {},
   "outputs": [],
   "source": [
    "cont_table.head()"
   ]
  },
  {
   "cell_type": "code",
   "execution_count": null,
   "id": "d6decb84-bb37-4773-b09b-a15d96be4b14",
   "metadata": {},
   "outputs": [],
   "source": [
    "cont_table.shape"
   ]
  },
  {
   "cell_type": "markdown",
   "id": "dafa10ab-1d75-4ed2-8559-c30c3a859af6",
   "metadata": {},
   "source": [
    "How to read the table:\n",
    "A total of 454 I1 were purchased from colourless 0.\n",
    "A total of 287 I1 were purchased from colourless 1."
   ]
  },
  {
   "cell_type": "markdown",
   "id": "3f57dfd9-fa3c-4a91-b5c1-333399ada1c3",
   "metadata": {},
   "source": [
    "Our goal is to verified if we have any association between the clarity of a diamond and whether it is colourless or not. A significance \n",
    "level of alpha = 0.01.\n",
    "\n",
    "Common Tests for Association\n",
    "\n",
    "1. The chi square test for association:  is used to determine if there is any association between  two categorical variables. It is really a hypothesis test of independence. The null hypothesis is that the two variables are not associated, i.e., independent. The alternate hypothesis is that the two variables are associated (SPC for Excel, n.d.).\n",
    "A Chi-Square test of independence uses the following null and alternative hypotheses:\r\n",
    "\r\n",
    "H0: (null hypothesis) The two variables are independent.\r\n",
    "H1: (alternative hypothesis) The two variables are not independent. (i.e. they are associat (Zach, 2021b).ed)\n",
    "   \r",
    "3. \n",
    "The Cochran-Mantel-Haenszel (CMH) Tes: use when you have data from 2×2 tables that you've repeated at different times or locations. It will tell you whether you have a consistent difference in proportions across the repeats.The most common situation is that you have multiple 2×2 tables of independence; you're analyzing the kind of experiment that you'd analyze with a test of independence, and you've done the experiment multiple times or at multiple locations. There are three nominal variables: the two variables of the 2×2 test of independence, and the third nominal variable that identifies the repeats (McDonald, 2014).\n",
    "\n",
    "4. \r\n",
    "Fisher’s Exact Te:  is grounded in the core statistical principle of contingency table analysis, which focuses on determining whether there is a non-random association between two categorical variables. This test is particularly suited for 2×2 contingency tables, which represent the simplest form of data classification with two variables that can each take on two different values. Compared to other statistical tests like the Chi-square test, Fisher’s test is uniquely reliable when sample sizes are small and  when the data contains cells in the contingency table with expected frequencies less than 5. In such cases, Fisher’s Exact Test is preferred due to its exact nature, not relying on any approximation or large sample assumptions(Easily, 2024).\n",
    "   e55. s.\r\n",
    "Goodman Kruska’s G s a non-parametric statistical measure identifying the correlation between two ordinal variables. It determines the direction and strength of the relationship between these data pairs to predict the future trend or values. The paired data sets should comprise ordinal variables. Ordinal variables possess categories or levels with natural order but lack specific numerical values. The paired variables should exhibit a monotonic connection whereby a rise in one variable results in an apparent increase or decrease in the rank of another variable (Choubey, 2024).For our test, we'll perform the CHI square test because the definition is exactly what we want to analyze whether or not the two categorical variables have any association, and instead of the Fisch test, the CHI square can be used for data with large frequency numbers.les.\n",
    "\n",
    "\n",
    "\n"
   ]
  },
  {
   "cell_type": "code",
   "execution_count": null,
   "id": "227b3322-4144-4991-9d00-ab0d6a1d6492",
   "metadata": {
    "scrolled": true
   },
   "outputs": [],
   "source": [
    "from scipy.stats import chi2_contingency\n",
    "\n",
    "#perform the Chi-Square Test \n",
    "chi2, p_value, _, _ = chi2_contingency(cont_table)\n",
    "alpha = 0.01\n",
    "\n",
    "\n",
    "print(\"\\nChi-Squared Test Statistic:\", chi2)\n",
    "print(\"P-value:\", p_value)\n",
    "\n",
    "if p < alpha:\n",
    "    print(\"Reject the null hypothesis. There is significant association between clarity and colorlessness.\")\n",
    "else:\n",
    "    print(\"Fail to reject the null hypothesis. There is no significant association between clarity and colorlessness.\")\n"
   ]
  },
  {
   "cell_type": "markdown",
   "id": "b2894094-5a6f-4ad3-9a02-de0c837b9f6b",
   "metadata": {},
   "source": [
    "Chi-square test, a p-value that is less than significance level indicates there is sufficient evidence to conclude that a relationship exists between the categorical variables."
   ]
  },
  {
   "cell_type": "code",
   "execution_count": null,
   "id": "607d9880-cdd9-499a-8cbc-01d1e975feac",
   "metadata": {},
   "outputs": [],
   "source": [
    "import matplotlib.pyplot as plt\n",
    "%matplotlib inline\n",
    "\n",
    "sns.histplot(binwidth=0.5, x='clarity', hue=\"colourless\", data=diamonds_df, stat=\"count\", multiple=\"stack\")"
   ]
  },
  {
   "cell_type": "markdown",
   "id": "5bf346fe-04a0-4ef0-88ec-bcaf3ab36b37",
   "metadata": {},
   "source": [
    "A confidence interval for a mean is a range of values that is likely to contain a population mean with a certain level of confidence. whay to do that? the reason is we want to capture our uncertainty when estimating a population, in our case a price mean of colourless and non_colorless (Zach, 2020a)."
   ]
  },
  {
   "cell_type": "code",
   "execution_count": null,
   "id": "e1349596-15ac-40c6-aee4-8b8b43939c63",
   "metadata": {},
   "outputs": [],
   "source": [
    "import numpy as np\n",
    "import scipy.stats as stats\n",
    "\n",
    "# Filter data for colorless and non-colorless diamonds\n",
    "colorless_prices = diamonds_df[diamonds_df['colourless'] == 1]['price']\n",
    "non_colorless_prices = diamonds_df[diamonds_df['colourless'] == 0]['price']\n",
    "\n",
    "# Calculate mean and standard deviation for colorless diamonds\n",
    "mean_colorless = np.mean(colorless_prices)\n",
    "std_colorless = np.std(colorless_prices)\n",
    "\n",
    "# Calculate mean and standard deviation for non-colorless diamonds\n",
    "mean_non_colorless = np.mean(non_colorless_prices)\n",
    "std_non_colorless = np.std(non_colorless_prices)\n",
    "\n",
    "# Calculate 90% confidence intervals for both groups\n",
    "conf_int_colorless = stats.norm.interval(0.90, loc=mean_colorless, scale=std_colorless/np.sqrt(len(colorless_prices)))\n",
    "conf_int_non_colorless = stats.norm.interval(0.90, loc=mean_non_colorless, scale=std_non_colorless/np.sqrt(len(non_colorless_prices)))\n",
    "\n",
    "print(\"90% Confidence Interval for Mean Price of Colorless Diamonds:\", conf_int_colorless)\n",
    "print(\"90% Confidence Interval for Mean Price of Non-Colorless Diamonds:\", conf_int_non_colorless)\n"
   ]
  },
  {
   "cell_type": "markdown",
   "id": "e435d40a-a706-476c-801f-186eb1ba1ea6",
   "metadata": {},
   "source": [
    "There is only a 10% chance that the true mean price lies outside of the 90% confidence interval. That is, there’s only a 10% chance that the true mean price of colorless is greater than 3373.6593252499883 or less than 3301.85947692509.\n",
    "\n",
    "There is only a 10% chance that the true mean price lies outside of the 90% confidence interval. That is, there’s only a 10% chance that the true mean price of Non-Colorless is greater than 4533.679900742729 or less than 4448.7802444452245."
   ]
  },
  {
   "cell_type": "code",
   "execution_count": null,
   "id": "e665c939-75a7-4266-acc7-aeca60496366",
   "metadata": {},
   "outputs": [],
   "source": []
  },
  {
   "cell_type": "code",
   "execution_count": null,
   "id": "c850177f-9e9e-420d-a77f-7d09f4fe800f",
   "metadata": {},
   "outputs": [],
   "source": []
  },
  {
   "cell_type": "code",
   "execution_count": null,
   "id": "491617aa-0627-4c8b-9e2a-7782be2959e9",
   "metadata": {},
   "outputs": [],
   "source": []
  },
  {
   "cell_type": "code",
   "execution_count": null,
   "id": "943b48cb-8c8b-4131-89f5-4e388e6173fc",
   "metadata": {},
   "outputs": [],
   "source": []
  },
  {
   "cell_type": "code",
   "execution_count": null,
   "id": "113468f1-9e6e-40b6-88be-2de804b9a6a1",
   "metadata": {},
   "outputs": [],
   "source": []
  },
  {
   "cell_type": "code",
   "execution_count": null,
   "id": "e42ece3e-b4d8-43f6-ab7f-ce1107a2265a",
   "metadata": {},
   "outputs": [],
   "source": []
  },
  {
   "cell_type": "code",
   "execution_count": null,
   "id": "5cce50b8-7550-43b6-9a35-8bbbb99dffed",
   "metadata": {},
   "outputs": [],
   "source": []
  },
  {
   "cell_type": "markdown",
   "id": "b54025c5-ce4b-4026-be59-9ea749ad58e6",
   "metadata": {},
   "source": [
    "References\n",
    "\n",
    "Frost, J. (n.d.). T Test Overview: How to Use & Examples. [online] Statistics By Jim. Available at: https://statisticsbyjim.com/hypothesis-testing/t-test/ [Accessed 10 May 2024].\n",
    "\n",
    "Zach (2020). How to Perform a Shapiro-Wilk Test in Python. [online] Statology. Available at: https://www.statology.org/shapiro-wilk-test-python/ [Accessed 10 May 2024].\n",
    "\n",
    "Mello, M. (2012). Qual teste estatístico devo usar? [online] Sobrevivendo na Ciência. Available at: https://marcoarmello.wordpress.com/2012/05/17/qualteste/ [Accessed 11 May 2024].\n",
    "\n",
    "Biostats. (n.d.). Test for normality – Shapiro-Wilk test – bioST@TS. [online] Available at: https://biostats.w.uib.no/test-for-normality-shapiro-wilks-test/ [Accessed 11 May 2024].\n",
    "\n",
    "Malato, G. (2023). An Introduction to the Shapiro-Wilk Test for Normality | Built In. [online] builtin.com. Available at: https://builtin.com/data-science/shapiro-wilk-test [Accessed 11 May 2024].\n",
    "\n",
    "RCODER. (2023). Lilliefors normality test in R. [online] Available at: https://r-coder.com/lilliefors-test-r/ [Accessed 11 May 2024].\n",
    "\n",
    "Real-statistics.com. (2024). One-Sample Anderson-Darling Test. [online] Available at: https://real-statistics.com/non-parametric-tests/goodness-of-fit-tests/anderson-darling-test/ [Accessed 11 May 2024].\n",
    "\n",
    "Mishra, P., Pandey, C.M., Singh, U., Sahu, C., Keshri, A. and Gupta, A. (2019). Descriptive Statistics and Normality Tests for Statistical Data. Annals of Cardiac Anaesthesia, [online] 22(1), pp.67–72. doi:https://doi.org/10.4103%2Faca.ACA_157_18.\n",
    "\n",
    "CueMath (n.d.). Critical Value - Formula, Definition, Examples, Types. [online] Cuemath. Available at: https://www.cuemath.com/data/critical-value/ [Accessed 11 May 2024].\n",
    "\n",
    "McDonald, J.H. (2014). Cochran–Mantel–Haenszel test - Handbook of Biological Statistics. [online] Bio Stat Handbook. Available at: https://www.biostathandbook.com/cmh.html [Accessed 12 May 2024].\n",
    "\n",
    "Easily, L.S. (2024). Fisher’s Exact Test: A Comprehensive Guide. [online] LEARN STATISTICS EASILY. Available at: https://statisticseasily.com/fishers-exact-test/ [Accessed 12 May 2024].\n",
    "\n",
    "Choubey, P. (2024). Goodman And Kruskal’s Gamma. [online] wallstreetmojo. Available at: https://www.wallstreetmojo.com/goodman-and-kruskals-gamma/#Assumptions [Accessed 12 May 2024].\n",
    "\n",
    "SPC for Excel. (n.d.). Chi Square Test for Association. [online] Available at: https://www.spcforexcel.com/help/statistical-tools/miscellaneous/chi-association/ [Accessed 12 May 2024].\n",
    "\n",
    "Zach (2020a). Confidence Interval for a Mean. [online] Statology. Available at: https://www.statology.org/confidence-interval-mean/."
   ]
  },
  {
   "cell_type": "code",
   "execution_count": null,
   "id": "908c71df-bc83-4e20-b605-5d2947a44d0d",
   "metadata": {},
   "outputs": [],
   "source": []
  },
  {
   "cell_type": "code",
   "execution_count": null,
   "id": "e991a34f-4349-46e4-bab7-3ccb91f40fc1",
   "metadata": {},
   "outputs": [],
   "source": []
  }
 ],
 "metadata": {
  "kernelspec": {
   "display_name": "Python 3 (ipykernel)",
   "language": "python",
   "name": "python3"
  },
  "language_info": {
   "codemirror_mode": {
    "name": "ipython",
    "version": 3
   },
   "file_extension": ".py",
   "mimetype": "text/x-python",
   "name": "python",
   "nbconvert_exporter": "python",
   "pygments_lexer": "ipython3",
   "version": "3.11.7"
  }
 },
 "nbformat": 4,
 "nbformat_minor": 5
}
