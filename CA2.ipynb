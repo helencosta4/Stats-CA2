{
 "cells": [
  {
   "cell_type": "markdown",
   "id": "e3c1f94e-6724-4598-9ea3-9fbdd44b928c",
   "metadata": {},
   "source": [
    "### Hypothesis tests"
   ]
  },
  {
   "cell_type": "markdown",
   "id": "351ff883-220c-429e-8d07-1ddc91f15a54",
   "metadata": {},
   "source": [
    "### Task 1:\n",
    "Load the dataset Q1.csv. It contains the exam scores (in percentages) of a sample of 50 students \r\n",
    "from a Dublin secondary school.\n",
    "For task 1, we want to test the hypothesis that the teacher's suspicion that the average is below the national average of 70%. So, in this case, we want to analyze two averages of the same population.\n",
    "\n",
    "The first step is to analyze if it is different from the population average and for this, it is important to choose an appropriate statistical test.\n",
    " Defining hypothesis:\n",
    " 1. State the Null Hypothesis: Mean score = 70%\n",
    " 2. Alternative Hypothesis: Mean score  < 70%\n",
    "\n",
    "Before choosing the appropriate hypothesis test, it is necessary to test the normality of the data distribution. In some statistical tests, if the distribution of data, errors or differences is not normal, it is necessary to do some kind of transformation or use a non-parametric version (Mello, 2012). Verifying normality of distribution is a requirement for running several of the well-known statistical tests such as Student’s t-test and ANOVA (Biostats, n.d.). ndings."
   ]
  },
  {
   "cell_type": "code",
   "execution_count": 212,
   "id": "14e189ed-d2ef-4a34-9d26-bc6bb43f9d49",
   "metadata": {},
   "outputs": [],
   "source": [
    "import pandas as pd\n",
    "import matplotlib.pyplot as plt\n",
    "import seaborn as sns\n",
    "import math\n",
    "import statistics\n",
    "import scipy.stats as stats\n",
    "import numpy as np\n",
    "from scipy import stats\n",
    "import warnings\n",
    "warnings.filterwarnings(\"ignore\")"
   ]
  },
  {
   "cell_type": "code",
   "execution_count": 213,
   "id": "3ccdccaa-d199-457a-82a5-d8a80c7ab739",
   "metadata": {},
   "outputs": [],
   "source": [
    "df = pd.read_csv(\"Q1.csv\")"
   ]
  },
  {
   "cell_type": "code",
   "execution_count": 214,
   "id": "ab0e98dd-5770-4329-b2be-49fc2e16e0b9",
   "metadata": {},
   "outputs": [
    {
     "data": {
      "text/html": [
       "<div>\n",
       "<style scoped>\n",
       "    .dataframe tbody tr th:only-of-type {\n",
       "        vertical-align: middle;\n",
       "    }\n",
       "\n",
       "    .dataframe tbody tr th {\n",
       "        vertical-align: top;\n",
       "    }\n",
       "\n",
       "    .dataframe thead th {\n",
       "        text-align: right;\n",
       "    }\n",
       "</style>\n",
       "<table border=\"1\" class=\"dataframe\">\n",
       "  <thead>\n",
       "    <tr style=\"text-align: right;\">\n",
       "      <th></th>\n",
       "      <th>exam_score</th>\n",
       "    </tr>\n",
       "  </thead>\n",
       "  <tbody>\n",
       "    <tr>\n",
       "      <th>0</th>\n",
       "      <td>74.54</td>\n",
       "    </tr>\n",
       "    <tr>\n",
       "      <th>1</th>\n",
       "      <td>66.20</td>\n",
       "    </tr>\n",
       "    <tr>\n",
       "      <th>2</th>\n",
       "      <td>86.75</td>\n",
       "    </tr>\n",
       "    <tr>\n",
       "      <th>3</th>\n",
       "      <td>70.87</td>\n",
       "    </tr>\n",
       "    <tr>\n",
       "      <th>4</th>\n",
       "      <td>80.43</td>\n",
       "    </tr>\n",
       "  </tbody>\n",
       "</table>\n",
       "</div>"
      ],
      "text/plain": [
       "   exam_score\n",
       "0       74.54\n",
       "1       66.20\n",
       "2       86.75\n",
       "3       70.87\n",
       "4       80.43"
      ]
     },
     "execution_count": 214,
     "metadata": {},
     "output_type": "execute_result"
    }
   ],
   "source": [
    "df.head()"
   ]
  },
  {
   "cell_type": "code",
   "execution_count": 215,
   "id": "6087e3c9-a5cc-4135-a67f-8f30201e92b1",
   "metadata": {},
   "outputs": [
    {
     "name": "stdout",
     "output_type": "stream",
     "text": [
      "<class 'pandas.core.frame.DataFrame'>\n",
      "RangeIndex: 50 entries, 0 to 49\n",
      "Data columns (total 1 columns):\n",
      " #   Column      Non-Null Count  Dtype  \n",
      "---  ------      --------------  -----  \n",
      " 0   exam_score  50 non-null     float64\n",
      "dtypes: float64(1)\n",
      "memory usage: 532.0 bytes\n"
     ]
    }
   ],
   "source": [
    "df.info()"
   ]
  },
  {
   "cell_type": "code",
   "execution_count": 216,
   "id": "4d667177-420d-408c-82fb-8479bdff87c4",
   "metadata": {},
   "outputs": [
    {
     "data": {
      "text/html": [
       "<div>\n",
       "<style scoped>\n",
       "    .dataframe tbody tr th:only-of-type {\n",
       "        vertical-align: middle;\n",
       "    }\n",
       "\n",
       "    .dataframe tbody tr th {\n",
       "        vertical-align: top;\n",
       "    }\n",
       "\n",
       "    .dataframe thead th {\n",
       "        text-align: right;\n",
       "    }\n",
       "</style>\n",
       "<table border=\"1\" class=\"dataframe\">\n",
       "  <thead>\n",
       "    <tr style=\"text-align: right;\">\n",
       "      <th></th>\n",
       "      <th>exam_score</th>\n",
       "    </tr>\n",
       "  </thead>\n",
       "  <tbody>\n",
       "    <tr>\n",
       "      <th>count</th>\n",
       "      <td>50.000000</td>\n",
       "    </tr>\n",
       "    <tr>\n",
       "      <th>mean</th>\n",
       "      <td>68.735600</td>\n",
       "    </tr>\n",
       "    <tr>\n",
       "      <th>std</th>\n",
       "      <td>9.750143</td>\n",
       "    </tr>\n",
       "    <tr>\n",
       "      <th>min</th>\n",
       "      <td>48.730000</td>\n",
       "    </tr>\n",
       "    <tr>\n",
       "      <th>25%</th>\n",
       "      <td>62.040000</td>\n",
       "    </tr>\n",
       "    <tr>\n",
       "      <th>50%</th>\n",
       "      <td>68.390000</td>\n",
       "    </tr>\n",
       "    <tr>\n",
       "      <th>75%</th>\n",
       "      <td>74.630000</td>\n",
       "    </tr>\n",
       "    <tr>\n",
       "      <th>max</th>\n",
       "      <td>87.360000</td>\n",
       "    </tr>\n",
       "  </tbody>\n",
       "</table>\n",
       "</div>"
      ],
      "text/plain": [
       "       exam_score\n",
       "count   50.000000\n",
       "mean    68.735600\n",
       "std      9.750143\n",
       "min     48.730000\n",
       "25%     62.040000\n",
       "50%     68.390000\n",
       "75%     74.630000\n",
       "max     87.360000"
      ]
     },
     "execution_count": 216,
     "metadata": {},
     "output_type": "execute_result"
    }
   ],
   "source": [
    "df.describe()"
   ]
  },
  {
   "cell_type": "markdown",
   "id": "595565cf-6985-474e-96fa-a7e6de66eb2a",
   "metadata": {},
   "source": [
    "Checking histogram\r\n",
    "First let's check if DF has normal distribution.\n"
   ]
  },
  {
   "cell_type": "code",
   "execution_count": 217,
   "id": "c58fc20b-67bb-4f4c-bf96-2217d2aa31e8",
   "metadata": {},
   "outputs": [
    {
     "data": {
      "image/png": "[encoded data removed]",
      "text/plain": [
       "<Figure size 800x500 with 1 Axes>"
      ]
     },
     "metadata": {},
     "output_type": "display_data"
    }
   ],
   "source": [
    "plt.figure(figsize=(8,5))\n",
    "plt.hist(df['exam_score'])\n",
    "plt.show()\n",
    "#sns.displot(df['exam_score'], kde=True, color='skyblue')"
   ]
  },
  {
   "cell_type": "markdown",
   "id": "ad70a05b-7ddb-423a-b1aa-a512416fc002",
   "metadata": {},
   "source": [
    "According to the histogram, the data appears to have a normal distribution, but to confirm this, we will perform a statistical test to verify."
   ]
  },
  {
   "cell_type": "markdown",
   "id": "433c2200-d9fa-4ed2-90e3-de3be32d0821",
   "metadata": {},
   "source": [
    "We have 4 main Normality Tests\n",
    "1. Shapiro-Wilk; \n",
    "2. Kolmogorov-Smirnov;\n",
    "3. Lilliefors; \n",
    "4. Anderson-Darlin\n",
    "   1. Shapiro-Wilk\n",
    "Shapiro-Wilk test is a hypothesis test that evaluates whether a data set is normally distributed. It evaluates data from a sample with the null hypothesis that the data set is normally distributed. A large p-value indicates the data set is normally distributed, a low p-value indicates that it isn’t normally distributed(Malato, 2023).\n",
    "    2. Kolmogorov-Smirnov\n",
    "This test compares the ECDF (empirical cumulative distribution function) of your sample data with the distribution expected if the data were normal. If this observed difference is adequately large, the test will reject the null hypothesis of population normality. If the p-value of this test is less than your chosen α, you can reject your null hypothesis and conclude that the population is nonnormal (support.minitab.com, n.d.).\n",
    "    3. Lilliefors\n",
    "The Lilliefors test is a variant of the Kolmogorov-Smirnov test that is specifically designed to test normality. It evaluates whether the data comes from a normal distribution by comparing the empirical distribution function of the data with the expected normal cumulative distribution function (RCODER, 2023).\n",
    "    4. \n",
    "The Anderson-Darling test has a similar objective to that of the Kolmogorov-Smirnov test, but it is more powerful. This is so since all the data values are considered, not just the one that produces the maximum difference. Also, more weight is given to the tails of the distribution being fitted. Generally, this test should be used instead of the Kolmogorov-Smirnov test (Real-statistics.com, 2024).\n",
    "\n",
    "\n",
    "The Shapiro–Wilk test is more appropriate method for small sample sizes (<50 samples) although it can also be handling on larger sample size while Kolmogorov–Smirnov test is used for n ≥50. For both of the above tests, null hypothesis states that data are taken from normal distributed population. When P > 0.05, null hypothesis accepted and data are called as normally distributed (Mishra et al., 2019)."
   ]
  },
  {
   "cell_type": "markdown",
   "id": "e75a6e05-ffda-4e7c-b910-b60a79e01c07",
   "metadata": {},
   "source": [
    "The Shapiro-Wilk test is a test of normality. It is used to determine whether or not a sample comes from a normal distribution(Zach, 2020)."
   ]
  },
  {
   "cell_type": "code",
   "execution_count": 218,
   "id": "f15dedbb-cda4-4922-8674-eead73c7ee65",
   "metadata": {
    "scrolled": true
   },
   "outputs": [
    {
     "name": "stdout",
     "output_type": "stream",
     "text": [
      "stat=0.98, p=0.655649244785308837890625000000\n",
      "normal distribution\n"
     ]
    }
   ],
   "source": [
    "from  scipy.stats import shapiro\n",
    "stat, p = shapiro(df['exam_score'])\n",
    "print ('stat=%.2f, p=%.30f' % (stat, p))\n",
    "if p > 0.05:\n",
    "    print('normal distribution')\n",
    "else:\n",
    "    print('Not a normal distribution')"
   ]
  },
  {
   "cell_type": "markdown",
   "id": "32a9979d-d767-4715-ad8b-8d297c35913c",
   "metadata": {},
   "source": [
    "Since the p-value is not less than 0.05, we fail to reject the null hypothesis, So the data comes from a normal distribution.\n",
    "with that we can choose the test of hipothesis."
   ]
  },
  {
   "cell_type": "markdown",
   "id": "1e49441d-921c-4a77-b573-e685bc14d083",
   "metadata": {},
   "source": []
  },
  {
   "cell_type": "markdown",
   "id": "af1a29f6-e490-43a7-9cc8-ffd440fed9b4",
   "metadata": {},
   "source": [
    "Identify outliers"
   ]
  },
  {
   "cell_type": "code",
   "execution_count": 219,
   "id": "dbaa222f-d8dd-4704-8ae8-6cc5bcb1f634",
   "metadata": {},
   "outputs": [
    {
     "data": {
      "text/plain": [
       "<Axes: >"
      ]
     },
     "execution_count": 219,
     "metadata": {},
     "output_type": "execute_result"
    },
    {
     "data": {
      "image/png": "[encoded data removed]",
      "text/plain": [
       "<Figure size 640x480 with 1 Axes>"
      ]
     },
     "metadata": {},
     "output_type": "display_data"
    }
   ],
   "source": [
    "sns.boxplot(df['exam_score'])"
   ]
  },
  {
   "cell_type": "code",
   "execution_count": 220,
   "id": "e25fa206-b528-4ecb-878e-579141b6e108",
   "metadata": {
    "scrolled": true
   },
   "outputs": [
    {
     "data": {
      "text/plain": [
       "68.73559999999999"
      ]
     },
     "execution_count": 220,
     "metadata": {},
     "output_type": "execute_result"
    }
   ],
   "source": [
    "df['exam_score'].mean()"
   ]
  },
  {
   "cell_type": "markdown",
   "id": "d9db6400-8b34-498f-b861-dcc34c15591f",
   "metadata": {},
   "source": [
    "    \n",
    "    The sample mean is different from 70, but this is not sufficient evidence to prove that the population mean is not 70! \n",
    "\n",
    "Use a one-sample t test to compare a sample mean to a reference value. It allows you to determine whether the population mean differs from the reference value. The reference value is usually highly relevant to the subject area(Frost, n.d.).\n",
    "\n",
    "Considering that we have a normal distribution and population standard deviation is unknown a one-sample t-test can be used.0$\n",
    "\n",
    "the level of significance $\\alpha$ = 0.05"
   ]
  },
  {
   "cell_type": "markdown",
   "id": "1555b6b8-0771-426f-9e46-bf2648bb1931",
   "metadata": {},
   "source": [
    "### One-Sample T-test"
   ]
  },
  {
   "cell_type": "code",
   "execution_count": 221,
   "id": "8635ac41-1a22-48a7-b6fb-9dd50fabe2c2",
   "metadata": {},
   "outputs": [
    {
     "name": "stdout",
     "output_type": "stream",
     "text": [
      "One-sample t-test:\n",
      "t-statistic: -0.9169771399834613\n",
      "p-value: 0.18182298516031403\n",
      "Fail to reject the null hypothesis: The mean score is not significantly below 70%.\n"
     ]
    }
   ],
   "source": [
    "from scipy.stats import ttest_1samp\n",
    "\n",
    "# Null hypothesis: Mean score = 70%\n",
    "# Alternative hypothesis: Mean score < 70%\n",
    "\n",
    "# Perform one-sample t-test\n",
    "t_stat, p_value = ttest_1samp(df['exam_score'], 70)\n",
    "\n",
    "# Since the test is one-tailed (mu < 70), we divide the p-value by 2\n",
    "p_value /= 2\n",
    "\n",
    "print(\"One-sample t-test:\")\n",
    "print(\"t-statistic:\", t_stat)\n",
    "print(\"p-value:\", p_value)\n",
    "\n",
    "# Significance level\n",
    "alpha = 0.05\n",
    "\n",
    "if p_value < alpha and t_stat < 0:\n",
    "    print(\"Reject the null hypothesis: The mean score is significantly below 70%.\")\n",
    "else:\n",
    "    print(\"Fail to reject the null hypothesis: The mean score is not significantly below 70%.\")\n"
   ]
  },
  {
   "cell_type": "markdown",
   "id": "fd3e9eec-3d16-4a81-9f4f-c0903a48b67a",
   "metadata": {},
   "source": [
    "The p-value = 0.18\n",
    "\n",
    "If the p-value is $<$ $\\alpha$, we reject the $H_0$, if the p-value is $\\nless$ $\\alpha$ then we fail to reject the $H_0$\n",
    "\n",
    "Note in this case p-value is great than significance level $\\alpha$, so we faill to reject the null-hypothesis. The difference between the sample mean and the population mean value is not statistically significant."
   ]
  },
  {
   "cell_type": "markdown",
   "id": "a9e0b556-497c-41e6-890e-e5211a9c7b29",
   "metadata": {},
   "source": [
    "### Calculation manually\n"
   ]
  },
  {
   "cell_type": "code",
   "execution_count": 206,
   "id": "3ed513f4-030a-4e21-895d-5aebb24acaca",
   "metadata": {},
   "outputs": [
    {
     "name": "stdout",
     "output_type": "stream",
     "text": [
      "The test Statistic:  -0.9169771399834615\n"
     ]
    }
   ],
   "source": [
    "\n",
    "# assign the variables (metrics for ttest) and values\n",
    "xbar = df['exam_score'].mean() # sample mean \n",
    "mu = 70 # The expected mean or (population mean)\n",
    "s = statistics.stdev(df['exam_score']) # standard deviation \n",
    "n = len(df['exam_score']) # the sample size\n",
    "\n",
    "\n",
    "print(\"The test Statistic: \", (xbar - mu) / (s / math.sqrt(n)))"
   ]
  },
  {
   "cell_type": "code",
   "execution_count": 207,
   "id": "1066b0b6-d9ee-4c4c-8583-7f49a4d66b72",
   "metadata": {},
   "outputs": [
    {
     "name": "stdout",
     "output_type": "stream",
     "text": [
      "Critical value (one-tailed, left): -1.6765508919142635\n"
     ]
    }
   ],
   "source": [
    "from scipy.stats import t\n",
    "\n",
    "# Degrees of freedom\n",
    "df = 50 - 1\n",
    "\n",
    "# Significance level\n",
    "alpha = 0.05\n",
    "\n",
    "# Critical value of the t-test (one-tailed)\n",
    "# For a left-tailed test, use the entire alpha level in the left tail\n",
    "t_critical_left = t.ppf(alpha, df)\n",
    "\n",
    "print(\"Critical value (one-tailed, left):\", t_critical_left)\n"
   ]
  },
  {
   "cell_type": "markdown",
   "id": "3266e9d3-cde3-4341-b77e-fc68ca1eb889",
   "metadata": {},
   "source": [
    "Critical value is a cut-off value that is used to mark the start of a region where the test statistic, obtained in hypothesis testing, is unlikely to fall in. In hypothesis testing, the critical value is compared with the obtained test statistic to determine whether the null hypothesis has to be rejected or not(CueMath, n.d.).\n",
    "\n",
    "A one-tailed test, there will be one critical values. In this case, the T critical values is -1.6765. If the T statistic is less than the critical value, we fail to reject the null hypothesis, otherwise if it is higher we accept the alternative hypothesis."
   ]
  },
  {
   "cell_type": "code",
   "execution_count": 223,
   "id": "d790754e-2665-4527-ad09-0160c5551686",
   "metadata": {},
   "outputs": [
    {
     "name": "stdout",
     "output_type": "stream",
     "text": [
      "Fail to reject the null hypothesis: The mean score is not significantly below 70%.\n"
     ]
    }
   ],
   "source": [
    "# Test statistic\n",
    "t_statistic = -0.9169771399834615\n",
    "\n",
    "# Comparison with the critical value\n",
    "if abs(t_statistic) > t_critical:\n",
    "    print(\"Reject the null hypothesis: The mean score is significantly below 70%.\")\n",
    "else:\n",
    "    print(\"Fail to reject the null hypothesis: The mean score is not significantly below 70%.\")\n"
   ]
  },
  {
   "cell_type": "code",
   "execution_count": null,
   "id": "a62ac2b8-4fa1-4647-96df-8975e35ec60a",
   "metadata": {},
   "outputs": [],
   "source": []
  },
  {
   "cell_type": "markdown",
   "id": "3dc6be3f-14eb-4d84-9d13-097d2b476f42",
   "metadata": {},
   "source": [
    "### Task 2: "
   ]
  },
  {
   "cell_type": "code",
   "execution_count": 16,
   "id": "93ca8433-04b5-4130-8640-a68d9e1d4128",
   "metadata": {},
   "outputs": [],
   "source": [
    "diamonds_df = pd.read_csv('diamonds.csv')"
   ]
  },
  {
   "cell_type": "code",
   "execution_count": 17,
   "id": "22d0a7d6-85c7-4af9-b21d-7efebeaa8f37",
   "metadata": {
    "scrolled": true
   },
   "outputs": [
    {
     "data": {
      "text/html": [
       "<div>\n",
       "<style scoped>\n",
       "    .dataframe tbody tr th:only-of-type {\n",
       "        vertical-align: middle;\n",
       "    }\n",
       "\n",
       "    .dataframe tbody tr th {\n",
       "        vertical-align: top;\n",
       "    }\n",
       "\n",
       "    .dataframe thead th {\n",
       "        text-align: right;\n",
       "    }\n",
       "</style>\n",
       "<table border=\"1\" class=\"dataframe\">\n",
       "  <thead>\n",
       "    <tr style=\"text-align: right;\">\n",
       "      <th></th>\n",
       "      <th>carat</th>\n",
       "      <th>cut</th>\n",
       "      <th>color</th>\n",
       "      <th>clarity</th>\n",
       "      <th>depth</th>\n",
       "      <th>table</th>\n",
       "      <th>price</th>\n",
       "      <th>x</th>\n",
       "      <th>y</th>\n",
       "      <th>z</th>\n",
       "    </tr>\n",
       "  </thead>\n",
       "  <tbody>\n",
       "    <tr>\n",
       "      <th>0</th>\n",
       "      <td>0.23</td>\n",
       "      <td>Ideal</td>\n",
       "      <td>E</td>\n",
       "      <td>SI2</td>\n",
       "      <td>61.5</td>\n",
       "      <td>55.0</td>\n",
       "      <td>326</td>\n",
       "      <td>3.95</td>\n",
       "      <td>3.98</td>\n",
       "      <td>2.43</td>\n",
       "    </tr>\n",
       "    <tr>\n",
       "      <th>1</th>\n",
       "      <td>0.21</td>\n",
       "      <td>Premium</td>\n",
       "      <td>E</td>\n",
       "      <td>SI1</td>\n",
       "      <td>59.8</td>\n",
       "      <td>61.0</td>\n",
       "      <td>326</td>\n",
       "      <td>3.89</td>\n",
       "      <td>3.84</td>\n",
       "      <td>2.31</td>\n",
       "    </tr>\n",
       "    <tr>\n",
       "      <th>2</th>\n",
       "      <td>0.23</td>\n",
       "      <td>Good</td>\n",
       "      <td>E</td>\n",
       "      <td>VS1</td>\n",
       "      <td>56.9</td>\n",
       "      <td>65.0</td>\n",
       "      <td>327</td>\n",
       "      <td>4.05</td>\n",
       "      <td>4.07</td>\n",
       "      <td>2.31</td>\n",
       "    </tr>\n",
       "    <tr>\n",
       "      <th>3</th>\n",
       "      <td>0.29</td>\n",
       "      <td>Premium</td>\n",
       "      <td>I</td>\n",
       "      <td>VS2</td>\n",
       "      <td>62.4</td>\n",
       "      <td>58.0</td>\n",
       "      <td>334</td>\n",
       "      <td>4.20</td>\n",
       "      <td>4.23</td>\n",
       "      <td>2.63</td>\n",
       "    </tr>\n",
       "    <tr>\n",
       "      <th>4</th>\n",
       "      <td>0.31</td>\n",
       "      <td>Good</td>\n",
       "      <td>J</td>\n",
       "      <td>SI2</td>\n",
       "      <td>63.3</td>\n",
       "      <td>58.0</td>\n",
       "      <td>335</td>\n",
       "      <td>4.34</td>\n",
       "      <td>4.35</td>\n",
       "      <td>2.75</td>\n",
       "    </tr>\n",
       "  </tbody>\n",
       "</table>\n",
       "</div>"
      ],
      "text/plain": [
       "   carat      cut color clarity  depth  table  price     x     y     z\n",
       "0   0.23    Ideal     E     SI2   61.5   55.0    326  3.95  3.98  2.43\n",
       "1   0.21  Premium     E     SI1   59.8   61.0    326  3.89  3.84  2.31\n",
       "2   0.23     Good     E     VS1   56.9   65.0    327  4.05  4.07  2.31\n",
       "3   0.29  Premium     I     VS2   62.4   58.0    334  4.20  4.23  2.63\n",
       "4   0.31     Good     J     SI2   63.3   58.0    335  4.34  4.35  2.75"
      ]
     },
     "execution_count": 17,
     "metadata": {},
     "output_type": "execute_result"
    }
   ],
   "source": [
    "diamonds_df.head()"
   ]
  },
  {
   "cell_type": "markdown",
   "id": "81ab41a0-9740-48d3-88b7-1ac68d0843ba",
   "metadata": {},
   "source": [
    "The apply function will apply each element of the series to the lambda function. The lambda function will then return a value for each element based on the expression you passed to it (Abayomi Ogunbiyi, 2022). In our case, the expression was x: 1 if x in ['D', 'E', 'F'] each element."
   ]
  },
  {
   "cell_type": "code",
   "execution_count": 18,
   "id": "8c8c94a1-49d1-47c9-8695-e02a62896343",
   "metadata": {},
   "outputs": [],
   "source": [
    "# Create a new binary variable for colorless diamonds\n",
    "diamonds_df['colourless'] = diamonds_df['color'].apply(lambda x: 1 if x in ['D', 'E', 'F'] else 0)\n"
   ]
  },
  {
   "cell_type": "code",
   "execution_count": 19,
   "id": "eef6ae77-5c4f-46cd-9a27-49ca3eeb2f19",
   "metadata": {
    "scrolled": true
   },
   "outputs": [
    {
     "data": {
      "text/html": [
       "<div>\n",
       "<style scoped>\n",
       "    .dataframe tbody tr th:only-of-type {\n",
       "        vertical-align: middle;\n",
       "    }\n",
       "\n",
       "    .dataframe tbody tr th {\n",
       "        vertical-align: top;\n",
       "    }\n",
       "\n",
       "    .dataframe thead th {\n",
       "        text-align: right;\n",
       "    }\n",
       "</style>\n",
       "<table border=\"1\" class=\"dataframe\">\n",
       "  <thead>\n",
       "    <tr style=\"text-align: right;\">\n",
       "      <th></th>\n",
       "      <th>carat</th>\n",
       "      <th>cut</th>\n",
       "      <th>color</th>\n",
       "      <th>clarity</th>\n",
       "      <th>depth</th>\n",
       "      <th>table</th>\n",
       "      <th>price</th>\n",
       "      <th>x</th>\n",
       "      <th>y</th>\n",
       "      <th>z</th>\n",
       "      <th>colourless</th>\n",
       "    </tr>\n",
       "  </thead>\n",
       "  <tbody>\n",
       "    <tr>\n",
       "      <th>0</th>\n",
       "      <td>0.23</td>\n",
       "      <td>Ideal</td>\n",
       "      <td>E</td>\n",
       "      <td>SI2</td>\n",
       "      <td>61.5</td>\n",
       "      <td>55.0</td>\n",
       "      <td>326</td>\n",
       "      <td>3.95</td>\n",
       "      <td>3.98</td>\n",
       "      <td>2.43</td>\n",
       "      <td>1</td>\n",
       "    </tr>\n",
       "    <tr>\n",
       "      <th>1</th>\n",
       "      <td>0.21</td>\n",
       "      <td>Premium</td>\n",
       "      <td>E</td>\n",
       "      <td>SI1</td>\n",
       "      <td>59.8</td>\n",
       "      <td>61.0</td>\n",
       "      <td>326</td>\n",
       "      <td>3.89</td>\n",
       "      <td>3.84</td>\n",
       "      <td>2.31</td>\n",
       "      <td>1</td>\n",
       "    </tr>\n",
       "    <tr>\n",
       "      <th>2</th>\n",
       "      <td>0.23</td>\n",
       "      <td>Good</td>\n",
       "      <td>E</td>\n",
       "      <td>VS1</td>\n",
       "      <td>56.9</td>\n",
       "      <td>65.0</td>\n",
       "      <td>327</td>\n",
       "      <td>4.05</td>\n",
       "      <td>4.07</td>\n",
       "      <td>2.31</td>\n",
       "      <td>1</td>\n",
       "    </tr>\n",
       "    <tr>\n",
       "      <th>3</th>\n",
       "      <td>0.29</td>\n",
       "      <td>Premium</td>\n",
       "      <td>I</td>\n",
       "      <td>VS2</td>\n",
       "      <td>62.4</td>\n",
       "      <td>58.0</td>\n",
       "      <td>334</td>\n",
       "      <td>4.20</td>\n",
       "      <td>4.23</td>\n",
       "      <td>2.63</td>\n",
       "      <td>0</td>\n",
       "    </tr>\n",
       "    <tr>\n",
       "      <th>4</th>\n",
       "      <td>0.31</td>\n",
       "      <td>Good</td>\n",
       "      <td>J</td>\n",
       "      <td>SI2</td>\n",
       "      <td>63.3</td>\n",
       "      <td>58.0</td>\n",
       "      <td>335</td>\n",
       "      <td>4.34</td>\n",
       "      <td>4.35</td>\n",
       "      <td>2.75</td>\n",
       "      <td>0</td>\n",
       "    </tr>\n",
       "  </tbody>\n",
       "</table>\n",
       "</div>"
      ],
      "text/plain": [
       "   carat      cut color clarity  depth  table  price     x     y     z  \\\n",
       "0   0.23    Ideal     E     SI2   61.5   55.0    326  3.95  3.98  2.43   \n",
       "1   0.21  Premium     E     SI1   59.8   61.0    326  3.89  3.84  2.31   \n",
       "2   0.23     Good     E     VS1   56.9   65.0    327  4.05  4.07  2.31   \n",
       "3   0.29  Premium     I     VS2   62.4   58.0    334  4.20  4.23  2.63   \n",
       "4   0.31     Good     J     SI2   63.3   58.0    335  4.34  4.35  2.75   \n",
       "\n",
       "   colourless  \n",
       "0           1  \n",
       "1           1  \n",
       "2           1  \n",
       "3           0  \n",
       "4           0  "
      ]
     },
     "execution_count": 19,
     "metadata": {},
     "output_type": "execute_result"
    }
   ],
   "source": [
    "diamonds_df.head()"
   ]
  },
  {
   "cell_type": "code",
   "execution_count": 20,
   "id": "a8d31be3-b353-4520-a82f-f7a6330d27ae",
   "metadata": {
    "scrolled": true
   },
   "outputs": [
    {
     "data": {
      "text/html": [
       "<div>\n",
       "<style scoped>\n",
       "    .dataframe tbody tr th:only-of-type {\n",
       "        vertical-align: middle;\n",
       "    }\n",
       "\n",
       "    .dataframe tbody tr th {\n",
       "        vertical-align: top;\n",
       "    }\n",
       "\n",
       "    .dataframe thead th {\n",
       "        text-align: right;\n",
       "    }\n",
       "</style>\n",
       "<table border=\"1\" class=\"dataframe\">\n",
       "  <thead>\n",
       "    <tr style=\"text-align: right;\">\n",
       "      <th></th>\n",
       "      <th>carat</th>\n",
       "      <th>depth</th>\n",
       "      <th>table</th>\n",
       "      <th>price</th>\n",
       "      <th>x</th>\n",
       "      <th>y</th>\n",
       "      <th>z</th>\n",
       "      <th>colourless</th>\n",
       "    </tr>\n",
       "  </thead>\n",
       "  <tbody>\n",
       "    <tr>\n",
       "      <th>count</th>\n",
       "      <td>53940.000000</td>\n",
       "      <td>53940.000000</td>\n",
       "      <td>53940.000000</td>\n",
       "      <td>53940.000000</td>\n",
       "      <td>53940.000000</td>\n",
       "      <td>53940.000000</td>\n",
       "      <td>53940.000000</td>\n",
       "      <td>53940.000000</td>\n",
       "    </tr>\n",
       "    <tr>\n",
       "      <th>mean</th>\n",
       "      <td>0.797940</td>\n",
       "      <td>61.749405</td>\n",
       "      <td>57.457184</td>\n",
       "      <td>3932.799722</td>\n",
       "      <td>5.731157</td>\n",
       "      <td>5.734526</td>\n",
       "      <td>3.538734</td>\n",
       "      <td>0.484131</td>\n",
       "    </tr>\n",
       "    <tr>\n",
       "      <th>std</th>\n",
       "      <td>0.474011</td>\n",
       "      <td>1.432621</td>\n",
       "      <td>2.234491</td>\n",
       "      <td>3989.439738</td>\n",
       "      <td>1.121761</td>\n",
       "      <td>1.142135</td>\n",
       "      <td>0.705699</td>\n",
       "      <td>0.499753</td>\n",
       "    </tr>\n",
       "    <tr>\n",
       "      <th>min</th>\n",
       "      <td>0.200000</td>\n",
       "      <td>43.000000</td>\n",
       "      <td>43.000000</td>\n",
       "      <td>326.000000</td>\n",
       "      <td>0.000000</td>\n",
       "      <td>0.000000</td>\n",
       "      <td>0.000000</td>\n",
       "      <td>0.000000</td>\n",
       "    </tr>\n",
       "    <tr>\n",
       "      <th>25%</th>\n",
       "      <td>0.400000</td>\n",
       "      <td>61.000000</td>\n",
       "      <td>56.000000</td>\n",
       "      <td>950.000000</td>\n",
       "      <td>4.710000</td>\n",
       "      <td>4.720000</td>\n",
       "      <td>2.910000</td>\n",
       "      <td>0.000000</td>\n",
       "    </tr>\n",
       "    <tr>\n",
       "      <th>50%</th>\n",
       "      <td>0.700000</td>\n",
       "      <td>61.800000</td>\n",
       "      <td>57.000000</td>\n",
       "      <td>2401.000000</td>\n",
       "      <td>5.700000</td>\n",
       "      <td>5.710000</td>\n",
       "      <td>3.530000</td>\n",
       "      <td>0.000000</td>\n",
       "    </tr>\n",
       "    <tr>\n",
       "      <th>75%</th>\n",
       "      <td>1.040000</td>\n",
       "      <td>62.500000</td>\n",
       "      <td>59.000000</td>\n",
       "      <td>5324.250000</td>\n",
       "      <td>6.540000</td>\n",
       "      <td>6.540000</td>\n",
       "      <td>4.040000</td>\n",
       "      <td>1.000000</td>\n",
       "    </tr>\n",
       "    <tr>\n",
       "      <th>max</th>\n",
       "      <td>5.010000</td>\n",
       "      <td>79.000000</td>\n",
       "      <td>95.000000</td>\n",
       "      <td>18823.000000</td>\n",
       "      <td>10.740000</td>\n",
       "      <td>58.900000</td>\n",
       "      <td>31.800000</td>\n",
       "      <td>1.000000</td>\n",
       "    </tr>\n",
       "  </tbody>\n",
       "</table>\n",
       "</div>"
      ],
      "text/plain": [
       "              carat         depth         table         price             x  \\\n",
       "count  53940.000000  53940.000000  53940.000000  53940.000000  53940.000000   \n",
       "mean       0.797940     61.749405     57.457184   3932.799722      5.731157   \n",
       "std        0.474011      1.432621      2.234491   3989.439738      1.121761   \n",
       "min        0.200000     43.000000     43.000000    326.000000      0.000000   \n",
       "25%        0.400000     61.000000     56.000000    950.000000      4.710000   \n",
       "50%        0.700000     61.800000     57.000000   2401.000000      5.700000   \n",
       "75%        1.040000     62.500000     59.000000   5324.250000      6.540000   \n",
       "max        5.010000     79.000000     95.000000  18823.000000     10.740000   \n",
       "\n",
       "                  y             z    colourless  \n",
       "count  53940.000000  53940.000000  53940.000000  \n",
       "mean       5.734526      3.538734      0.484131  \n",
       "std        1.142135      0.705699      0.499753  \n",
       "min        0.000000      0.000000      0.000000  \n",
       "25%        4.720000      2.910000      0.000000  \n",
       "50%        5.710000      3.530000      0.000000  \n",
       "75%        6.540000      4.040000      1.000000  \n",
       "max       58.900000     31.800000      1.000000  "
      ]
     },
     "execution_count": 20,
     "metadata": {},
     "output_type": "execute_result"
    }
   ],
   "source": [
    "diamonds_df.describe()"
   ]
  },
  {
   "cell_type": "code",
   "execution_count": 21,
   "id": "4e0015ad-41ca-441c-a069-b6a52fc0cd83",
   "metadata": {
    "scrolled": true
   },
   "outputs": [
    {
     "name": "stdout",
     "output_type": "stream",
     "text": [
      "<class 'pandas.core.frame.DataFrame'>\n",
      "RangeIndex: 53940 entries, 0 to 53939\n",
      "Data columns (total 11 columns):\n",
      " #   Column      Non-Null Count  Dtype  \n",
      "---  ------      --------------  -----  \n",
      " 0   carat       53940 non-null  float64\n",
      " 1   cut         53940 non-null  object \n",
      " 2   color       53940 non-null  object \n",
      " 3   clarity     53940 non-null  object \n",
      " 4   depth       53940 non-null  float64\n",
      " 5   table       53940 non-null  float64\n",
      " 6   price       53940 non-null  int64  \n",
      " 7   x           53940 non-null  float64\n",
      " 8   y           53940 non-null  float64\n",
      " 9   z           53940 non-null  float64\n",
      " 10  colourless  53940 non-null  int64  \n",
      "dtypes: float64(6), int64(2), object(3)\n",
      "memory usage: 4.5+ MB\n"
     ]
    }
   ],
   "source": [
    "diamonds_df.info()"
   ]
  },
  {
   "cell_type": "code",
   "execution_count": 108,
   "id": "79093cb5-58db-4a31-9822-aa19dcd561c1",
   "metadata": {},
   "outputs": [
    {
     "data": {
      "text/plain": [
       "carat         0\n",
       "cut           0\n",
       "color         0\n",
       "clarity       0\n",
       "depth         0\n",
       "table         0\n",
       "price         0\n",
       "x             0\n",
       "y             0\n",
       "z             0\n",
       "colourless    0\n",
       "dtype: int64"
      ]
     },
     "execution_count": 108,
     "metadata": {},
     "output_type": "execute_result"
    }
   ],
   "source": [
    "diamonds_df.isnull().sum()"
   ]
  },
  {
   "cell_type": "code",
   "execution_count": 22,
   "id": "5ce4316b-5434-47d0-add7-949ba329c8fb",
   "metadata": {},
   "outputs": [
    {
     "data": {
      "image/png": "[encoded data removed]",
      "text/plain": [
       "<Figure size 800x500 with 1 Axes>"
      ]
     },
     "metadata": {},
     "output_type": "display_data"
    }
   ],
   "source": [
    "plt.figure(figsize=(8,5))\n",
    "plt.hist(diamonds_df['clarity'])\n",
    "plt.show()"
   ]
  },
  {
   "cell_type": "markdown",
   "id": "dcd48f3c-942a-43af-abd9-e3807d40c063",
   "metadata": {},
   "source": [
    "A contingency table is a type of table that summarizes the relationship between two categorical variables. To create a contingency table in Python, we can use the pandas.crosstab() function (Zach, 2021)."
   ]
  },
  {
   "cell_type": "code",
   "execution_count": 23,
   "id": "f660e52a-6df0-4ac9-bce6-e7035fe4fc0b",
   "metadata": {},
   "outputs": [],
   "source": [
    "#create the contingency table to colourless and clarity\n",
    "cont_table = pd.crosstab(diamonds_df['colourless'], diamonds_df['clarity']) #margins=True \n"
   ]
  },
  {
   "cell_type": "code",
   "execution_count": 24,
   "id": "f2089e97-6475-48f6-a75d-af1ea2a52e7a",
   "metadata": {},
   "outputs": [
    {
     "data": {
      "text/html": [
       "<div>\n",
       "<style scoped>\n",
       "    .dataframe tbody tr th:only-of-type {\n",
       "        vertical-align: middle;\n",
       "    }\n",
       "\n",
       "    .dataframe tbody tr th {\n",
       "        vertical-align: top;\n",
       "    }\n",
       "\n",
       "    .dataframe thead th {\n",
       "        text-align: right;\n",
       "    }\n",
       "</style>\n",
       "<table border=\"1\" class=\"dataframe\">\n",
       "  <thead>\n",
       "    <tr style=\"text-align: right;\">\n",
       "      <th>clarity</th>\n",
       "      <th>I1</th>\n",
       "      <th>IF</th>\n",
       "      <th>SI1</th>\n",
       "      <th>SI2</th>\n",
       "      <th>VS1</th>\n",
       "      <th>VS2</th>\n",
       "      <th>VVS1</th>\n",
       "      <th>VVS2</th>\n",
       "    </tr>\n",
       "    <tr>\n",
       "      <th>colourless</th>\n",
       "      <th></th>\n",
       "      <th></th>\n",
       "      <th></th>\n",
       "      <th></th>\n",
       "      <th></th>\n",
       "      <th></th>\n",
       "      <th></th>\n",
       "      <th></th>\n",
       "    </tr>\n",
       "  </thead>\n",
       "  <tbody>\n",
       "    <tr>\n",
       "      <th>0</th>\n",
       "      <td>454</td>\n",
       "      <td>1174</td>\n",
       "      <td>6425</td>\n",
       "      <td>4502</td>\n",
       "      <td>4821</td>\n",
       "      <td>5890</td>\n",
       "      <td>2013</td>\n",
       "      <td>2547</td>\n",
       "    </tr>\n",
       "    <tr>\n",
       "      <th>1</th>\n",
       "      <td>287</td>\n",
       "      <td>616</td>\n",
       "      <td>6640</td>\n",
       "      <td>4692</td>\n",
       "      <td>3350</td>\n",
       "      <td>6368</td>\n",
       "      <td>1642</td>\n",
       "      <td>2519</td>\n",
       "    </tr>\n",
       "  </tbody>\n",
       "</table>\n",
       "</div>"
      ],
      "text/plain": [
       "clarity      I1    IF   SI1   SI2   VS1   VS2  VVS1  VVS2\n",
       "colourless                                               \n",
       "0           454  1174  6425  4502  4821  5890  2013  2547\n",
       "1           287   616  6640  4692  3350  6368  1642  2519"
      ]
     },
     "execution_count": 24,
     "metadata": {},
     "output_type": "execute_result"
    }
   ],
   "source": [
    "cont_table.head()"
   ]
  },
  {
   "cell_type": "code",
   "execution_count": 25,
   "id": "d6decb84-bb37-4773-b09b-a15d96be4b14",
   "metadata": {},
   "outputs": [
    {
     "data": {
      "text/plain": [
       "(2, 8)"
      ]
     },
     "execution_count": 25,
     "metadata": {},
     "output_type": "execute_result"
    }
   ],
   "source": [
    "cont_table.shape"
   ]
  },
  {
   "cell_type": "markdown",
   "id": "dafa10ab-1d75-4ed2-8559-c30c3a859af6",
   "metadata": {},
   "source": [
    "How to read the table:\n",
    "A total of 454 I1 were purchased from colourless 0.\n",
    "A total of 287 I1 were purchased from colourless 1."
   ]
  },
  {
   "cell_type": "markdown",
   "id": "3f57dfd9-fa3c-4a91-b5c1-333399ada1c3",
   "metadata": {},
   "source": [
    "Our goal is to verified if we have any association between the clarity of a diamond and whether it is colourless or not. A significance \n",
    "level of alpha = 0.01.\n",
    "\n",
    "Common Tests for Association\n",
    "\n",
    "1. The chi square test for association:  is used to determine if there is any association between  two categorical variables. It is really a hypothesis test of independence. The null hypothesis is that the two variables are not associated, i.e., independent. The alternate hypothesis is that the two variables are associated (SPC for Excel, n.d.).\n",
    "A Chi-Square test of independence uses the following null and alternative hypotheses:\r\n",
    "\r\n",
    "H0: (null hypothesis) The two variables are independent.\r\n",
    "H1: (alternative hypothesis) The two variables are not independent. (i.e. they are associat (Zach, 2021b).ed)\n",
    "   \r",
    "3. \n",
    "The Cochran-Mantel-Haenszel (CMH) Tes: use when you have data from 2×2 tables that you've repeated at different times or locations. It will tell you whether you have a consistent difference in proportions across the repeats.The most common situation is that you have multiple 2×2 tables of independence; you're analyzing the kind of experiment that you'd analyze with a test of independence, and you've done the experiment multiple times or at multiple locations. There are three nominal variables: the two variables of the 2×2 test of independence, and the third nominal variable that identifies the repeats (McDonald, 2014).\n",
    "\n",
    "4. \r\n",
    "Fisher’s Exact Te:  is grounded in the core statistical principle of contingency table analysis, which focuses on determining whether there is a non-random association between two categorical variables. This test is particularly suited for 2×2 contingency tables, which represent the simplest form of data classification with two variables that can each take on two different values. Compared to other statistical tests like the Chi-square test, Fisher’s test is uniquely reliable when sample sizes are small and  when the data contains cells in the contingency table with expected frequencies less than 5. In such cases, Fisher’s Exact Test is preferred due to its exact nature, not relying on any approximation or large sample assumptions(Easily, 2024).\n",
    "   e55. s.\r\n",
    "Goodman Kruska’s G s a non-parametric statistical measure identifying the correlation between two ordinal variables. It determines the direction and strength of the relationship between these data pairs to predict the future trend or values. The paired data sets should comprise ordinal variables. Ordinal variables possess categories or levels with natural order but lack specific numerical values. The paired variables should exhibit a monotonic connection whereby a rise in one variable results in an apparent increase or decrease in the rank of another variable (Choubey, 2024).For our test, we'll perform the CHI square test because the definition is exactly what we want to analyze whether or not the two categorical variables have any association, and instead of the Fisch test, the CHI square can be used for data with large frequency numbers.les.\n",
    "\n",
    "\n",
    "\n"
   ]
  },
  {
   "cell_type": "code",
   "execution_count": 126,
   "id": "227b3322-4144-4991-9d00-ab0d6a1d6492",
   "metadata": {
    "scrolled": true
   },
   "outputs": [
    {
     "name": "stdout",
     "output_type": "stream",
     "text": [
      "\n",
      "Chi-Squared Test Statistic: 486.47305941485223\n",
      "P-value: 6.481587124454715e-101\n",
      "Fail to reject the null hypothesis. There is no significant association between clarity and colorlessness.\n"
     ]
    }
   ],
   "source": [
    "from scipy.stats import chi2_contingency\n",
    "\n",
    "#perform the Chi-Square Test \n",
    "chi2, p_value, _,_ = chi2_contingency(cont_table)\n",
    "alpha = 0.01\n",
    "\n",
    "\n",
    "print(\"\\nChi-Squared Test Statistic:\", chi2)\n",
    "print(\"P-value:\", p_value)\n",
    "\n",
    "if p < alpha:\n",
    "    print(\"Reject the null hypothesis. There is significant association between clarity and colorlessness.\")\n",
    "else:\n",
    "    print(\"Fail to reject the null hypothesis. There is no significant association between clarity and colorlessness.\")\n"
   ]
  },
  {
   "cell_type": "markdown",
   "id": "b2894094-5a6f-4ad3-9a02-de0c837b9f6b",
   "metadata": {},
   "source": [
    "Chi-square test, a p-value that is less than significance level indicates there is sufficient evidence to conclude that a relationship exists between the categorical variables."
   ]
  },
  {
   "cell_type": "code",
   "execution_count": 133,
   "id": "7141c2e1-c28e-4229-8c8f-6ddfdc4c8b85",
   "metadata": {},
   "outputs": [
    {
     "data": {
      "text/plain": [
       "Chi2ContingencyResult(statistic=486.47305941485223, pvalue=6.481587124454715e-101, dof=7, expected_freq=array([[ 382.2592881 ,  923.40637746, 6739.83481646, 4742.90404153,\n",
       "        4215.16955877, 6323.52814238, 1885.50296626, 2613.39480905],\n",
       "       [ 358.7407119 ,  866.59362254, 6325.16518354, 4451.09595847,\n",
       "        3955.83044123, 5934.47185762, 1769.49703374, 2452.60519095]]))"
      ]
     },
     "execution_count": 133,
     "metadata": {},
     "output_type": "execute_result"
    }
   ],
   "source": [
    "res = chi2_contingency(cont_table)\n",
    "res\n",
    "#res.statistic\n",
    "\n",
    "#res.pvalue\n",
    "\n",
    "#res.dof\n",
    "\n",
    "#res.expected_freq\n"
   ]
  },
  {
   "cell_type": "code",
   "execution_count": 27,
   "id": "607d9880-cdd9-499a-8cbc-01d1e975feac",
   "metadata": {},
   "outputs": [
    {
     "data": {
      "text/plain": [
       "<Axes: xlabel='clarity', ylabel='Count'>"
      ]
     },
     "execution_count": 27,
     "metadata": {},
     "output_type": "execute_result"
    },
    {
     "data": {
      "image/png": "[encoded data removed]",
      "text/plain": [
       "<Figure size 640x480 with 1 Axes>"
      ]
     },
     "metadata": {},
     "output_type": "display_data"
    }
   ],
   "source": [
    "import matplotlib.pyplot as plt\n",
    "%matplotlib inline\n",
    "\n",
    "sns.histplot(binwidth=0.5, x='clarity', hue=\"colourless\", data=diamonds_df, stat=\"count\", multiple=\"stack\")"
   ]
  },
  {
   "cell_type": "markdown",
   "id": "5bf346fe-04a0-4ef0-88ec-bcaf3ab36b37",
   "metadata": {},
   "source": [
    "A confidence interval for a mean is a range of values that is likely to contain a population mean with a certain level of confidence. whay to do that? the reason is we want to capture our uncertainty when estimating a population, in our case a price mean of colourless and non_colorless (Zach, 2020a)."
   ]
  },
  {
   "cell_type": "code",
   "execution_count": 28,
   "id": "e1349596-15ac-40c6-aee4-8b8b43939c63",
   "metadata": {},
   "outputs": [
    {
     "name": "stdout",
     "output_type": "stream",
     "text": [
      "90% Confidence Interval for Mean Price of Colorless Diamonds: (3301.85947692509, 3373.6593252499883)\n",
      "90% Confidence Interval for Mean Price of Non-Colorless Diamonds: (4448.7802444452245, 4533.679900742729)\n"
     ]
    }
   ],
   "source": [
    "import numpy as np\n",
    "import scipy.stats as stats\n",
    "\n",
    "# Filter data for colorless and non-colorless diamonds\n",
    "colorless_prices = diamonds_df[diamonds_df['colourless'] == 1]['price']\n",
    "non_colorless_prices = diamonds_df[diamonds_df['colourless'] == 0]['price']\n",
    "\n",
    "# Calculate mean and standard deviation for colorless diamonds\n",
    "mean_colorless = np.mean(colorless_prices)\n",
    "std_colorless = np.std(colorless_prices)\n",
    "\n",
    "# Calculate mean and standard deviation for non-colorless diamonds\n",
    "mean_non_colorless = np.mean(non_colorless_prices)\n",
    "std_non_colorless = np.std(non_colorless_prices)\n",
    "\n",
    "# Calculate 90% confidence intervals for both groups\n",
    "conf_int_colorless = stats.norm.interval(0.90, loc=mean_colorless, scale=std_colorless/np.sqrt(len(colorless_prices)))\n",
    "conf_int_non_colorless = stats.norm.interval(0.90, loc=mean_non_colorless, scale=std_non_colorless/np.sqrt(len(non_colorless_prices)))\n",
    "\n",
    "print(\"90% Confidence Interval for Mean Price of Colorless Diamonds:\", conf_int_colorless)\n",
    "print(\"90% Confidence Interval for Mean Price of Non-Colorless Diamonds:\", conf_int_non_colorless)\n"
   ]
  },
  {
   "cell_type": "markdown",
   "id": "e435d40a-a706-476c-801f-186eb1ba1ea6",
   "metadata": {},
   "source": [
    "There is only a 10% chance that the true mean price lies outside of the 90% confidence interval. That is, there’s only a 10% chance that the true mean price of colorless is greater than 3373.6593252499883 or less than 3301.85947692509.\n",
    "\n",
    "There is only a 10% chance that the true mean price lies outside of the 90% confidence interval. That is, there’s only a 10% chance that the true mean price of Non-Colorless is greater than 4533.679900742729 or less than 4448.7802444452245."
   ]
  },
  {
   "cell_type": "code",
   "execution_count": null,
   "id": "e665c939-75a7-4266-acc7-aeca60496366",
   "metadata": {},
   "outputs": [],
   "source": []
  },
  {
   "cell_type": "markdown",
   "id": "b5248c43-4d78-444b-b56d-3e60309c9adb",
   "metadata": {},
   "source": [
    "### Task 3: "
   ]
  },
  {
   "cell_type": "code",
   "execution_count": 83,
   "id": "96128835-d3f5-4fb8-b895-5db5406153bf",
   "metadata": {},
   "outputs": [],
   "source": [
    "from pydataset import data\n",
    "import pandas as pd\n",
    "\n",
    "plantg = data('PlantGrowth')"
   ]
  },
  {
   "cell_type": "code",
   "execution_count": 29,
   "id": "491617aa-0627-4c8b-9e2a-7782be2959e9",
   "metadata": {},
   "outputs": [],
   "source": [
    "from pydataset import data\n",
    "import pandas as pd\n",
    "\n",
    "#plantg = pd.read_csv('PlantGrowth.csv')"
   ]
  },
  {
   "cell_type": "code",
   "execution_count": 84,
   "id": "943b48cb-8c8b-4131-89f5-4e388e6173fc",
   "metadata": {
    "scrolled": true
   },
   "outputs": [
    {
     "data": {
      "text/html": [
       "<div>\n",
       "<style scoped>\n",
       "    .dataframe tbody tr th:only-of-type {\n",
       "        vertical-align: middle;\n",
       "    }\n",
       "\n",
       "    .dataframe tbody tr th {\n",
       "        vertical-align: top;\n",
       "    }\n",
       "\n",
       "    .dataframe thead th {\n",
       "        text-align: right;\n",
       "    }\n",
       "</style>\n",
       "<table border=\"1\" class=\"dataframe\">\n",
       "  <thead>\n",
       "    <tr style=\"text-align: right;\">\n",
       "      <th></th>\n",
       "      <th>weight</th>\n",
       "      <th>group</th>\n",
       "    </tr>\n",
       "  </thead>\n",
       "  <tbody>\n",
       "    <tr>\n",
       "      <th>1</th>\n",
       "      <td>4.17</td>\n",
       "      <td>ctrl</td>\n",
       "    </tr>\n",
       "    <tr>\n",
       "      <th>2</th>\n",
       "      <td>5.58</td>\n",
       "      <td>ctrl</td>\n",
       "    </tr>\n",
       "    <tr>\n",
       "      <th>3</th>\n",
       "      <td>5.18</td>\n",
       "      <td>ctrl</td>\n",
       "    </tr>\n",
       "    <tr>\n",
       "      <th>4</th>\n",
       "      <td>6.11</td>\n",
       "      <td>ctrl</td>\n",
       "    </tr>\n",
       "    <tr>\n",
       "      <th>5</th>\n",
       "      <td>4.50</td>\n",
       "      <td>ctrl</td>\n",
       "    </tr>\n",
       "  </tbody>\n",
       "</table>\n",
       "</div>"
      ],
      "text/plain": [
       "   weight group\n",
       "1    4.17  ctrl\n",
       "2    5.58  ctrl\n",
       "3    5.18  ctrl\n",
       "4    6.11  ctrl\n",
       "5    4.50  ctrl"
      ]
     },
     "execution_count": 84,
     "metadata": {},
     "output_type": "execute_result"
    }
   ],
   "source": [
    "plantg.head()"
   ]
  },
  {
   "cell_type": "code",
   "execution_count": 86,
   "id": "113468f1-9e6e-40b6-88be-2de804b9a6a1",
   "metadata": {},
   "outputs": [
    {
     "name": "stdout",
     "output_type": "stream",
     "text": [
      "<class 'pandas.core.frame.DataFrame'>\n",
      "Index: 30 entries, 1 to 30\n",
      "Data columns (total 2 columns):\n",
      " #   Column  Non-Null Count  Dtype  \n",
      "---  ------  --------------  -----  \n",
      " 0   weight  30 non-null     float64\n",
      " 1   group   30 non-null     object \n",
      "dtypes: float64(1), object(1)\n",
      "memory usage: 720.0+ bytes\n"
     ]
    }
   ],
   "source": [
    "plantg.info()"
   ]
  },
  {
   "cell_type": "code",
   "execution_count": 85,
   "id": "e42ece3e-b4d8-43f6-ab7f-ce1107a2265a",
   "metadata": {},
   "outputs": [
    {
     "data": {
      "text/plain": [
       "(30, 2)"
      ]
     },
     "execution_count": 85,
     "metadata": {},
     "output_type": "execute_result"
    }
   ],
   "source": [
    "plantg.shape"
   ]
  },
  {
   "cell_type": "code",
   "execution_count": 33,
   "id": "5cce50b8-7550-43b6-9a35-8bbbb99dffed",
   "metadata": {},
   "outputs": [
    {
     "data": {
      "text/plain": [
       "array(['ctrl', 'trt1', 'trt2'], dtype=object)"
      ]
     },
     "execution_count": 33,
     "metadata": {},
     "output_type": "execute_result"
    }
   ],
   "source": [
    "plantg['group'].unique()"
   ]
  },
  {
   "cell_type": "code",
   "execution_count": 87,
   "id": "a3d1d01a-1bc2-4ca2-9f79-ddd2e64ea5fb",
   "metadata": {},
   "outputs": [
    {
     "data": {
      "text/html": [
       "<div>\n",
       "<style scoped>\n",
       "    .dataframe tbody tr th:only-of-type {\n",
       "        vertical-align: middle;\n",
       "    }\n",
       "\n",
       "    .dataframe tbody tr th {\n",
       "        vertical-align: top;\n",
       "    }\n",
       "\n",
       "    .dataframe thead th {\n",
       "        text-align: right;\n",
       "    }\n",
       "</style>\n",
       "<table border=\"1\" class=\"dataframe\">\n",
       "  <thead>\n",
       "    <tr style=\"text-align: right;\">\n",
       "      <th></th>\n",
       "      <th>weight</th>\n",
       "    </tr>\n",
       "  </thead>\n",
       "  <tbody>\n",
       "    <tr>\n",
       "      <th>count</th>\n",
       "      <td>30.000000</td>\n",
       "    </tr>\n",
       "    <tr>\n",
       "      <th>mean</th>\n",
       "      <td>5.073000</td>\n",
       "    </tr>\n",
       "    <tr>\n",
       "      <th>std</th>\n",
       "      <td>0.701192</td>\n",
       "    </tr>\n",
       "    <tr>\n",
       "      <th>min</th>\n",
       "      <td>3.590000</td>\n",
       "    </tr>\n",
       "    <tr>\n",
       "      <th>25%</th>\n",
       "      <td>4.550000</td>\n",
       "    </tr>\n",
       "    <tr>\n",
       "      <th>50%</th>\n",
       "      <td>5.155000</td>\n",
       "    </tr>\n",
       "    <tr>\n",
       "      <th>75%</th>\n",
       "      <td>5.530000</td>\n",
       "    </tr>\n",
       "    <tr>\n",
       "      <th>max</th>\n",
       "      <td>6.310000</td>\n",
       "    </tr>\n",
       "  </tbody>\n",
       "</table>\n",
       "</div>"
      ],
      "text/plain": [
       "          weight\n",
       "count  30.000000\n",
       "mean    5.073000\n",
       "std     0.701192\n",
       "min     3.590000\n",
       "25%     4.550000\n",
       "50%     5.155000\n",
       "75%     5.530000\n",
       "max     6.310000"
      ]
     },
     "execution_count": 87,
     "metadata": {},
     "output_type": "execute_result"
    }
   ],
   "source": [
    "plantg.describe()"
   ]
  },
  {
   "cell_type": "markdown",
   "id": "be2b80a3-65db-4afc-b877-552e7a8404e8",
   "metadata": {},
   "source": [
    "A groupby operation involves some combination of splitting the object, applying a function, and combining the results. This can be used to group large amounts of data and compute operations on these groups (pandas.pydata.org, n.d.).\n",
    "The criteria in our case is the column “group”."
   ]
  },
  {
   "cell_type": "code",
   "execution_count": 88,
   "id": "4c7e2fde-5ea3-44ee-8d53-396457616b20",
   "metadata": {},
   "outputs": [
    {
     "data": {
      "text/html": [
       "<div>\n",
       "<style scoped>\n",
       "    .dataframe tbody tr th:only-of-type {\n",
       "        vertical-align: middle;\n",
       "    }\n",
       "\n",
       "    .dataframe tbody tr th {\n",
       "        vertical-align: top;\n",
       "    }\n",
       "\n",
       "    .dataframe thead th {\n",
       "        text-align: right;\n",
       "    }\n",
       "</style>\n",
       "<table border=\"1\" class=\"dataframe\">\n",
       "  <thead>\n",
       "    <tr style=\"text-align: right;\">\n",
       "      <th></th>\n",
       "      <th>count</th>\n",
       "      <th>mean</th>\n",
       "      <th>std</th>\n",
       "      <th>min</th>\n",
       "      <th>25%</th>\n",
       "      <th>50%</th>\n",
       "      <th>75%</th>\n",
       "      <th>max</th>\n",
       "    </tr>\n",
       "    <tr>\n",
       "      <th>group</th>\n",
       "      <th></th>\n",
       "      <th></th>\n",
       "      <th></th>\n",
       "      <th></th>\n",
       "      <th></th>\n",
       "      <th></th>\n",
       "      <th></th>\n",
       "      <th></th>\n",
       "    </tr>\n",
       "  </thead>\n",
       "  <tbody>\n",
       "    <tr>\n",
       "      <th>ctrl</th>\n",
       "      <td>10.0</td>\n",
       "      <td>5.032</td>\n",
       "      <td>0.583091</td>\n",
       "      <td>4.17</td>\n",
       "      <td>4.5500</td>\n",
       "      <td>5.155</td>\n",
       "      <td>5.2925</td>\n",
       "      <td>6.11</td>\n",
       "    </tr>\n",
       "    <tr>\n",
       "      <th>trt1</th>\n",
       "      <td>10.0</td>\n",
       "      <td>4.661</td>\n",
       "      <td>0.793676</td>\n",
       "      <td>3.59</td>\n",
       "      <td>4.2075</td>\n",
       "      <td>4.550</td>\n",
       "      <td>4.8700</td>\n",
       "      <td>6.03</td>\n",
       "    </tr>\n",
       "    <tr>\n",
       "      <th>trt2</th>\n",
       "      <td>10.0</td>\n",
       "      <td>5.526</td>\n",
       "      <td>0.442573</td>\n",
       "      <td>4.92</td>\n",
       "      <td>5.2675</td>\n",
       "      <td>5.435</td>\n",
       "      <td>5.7350</td>\n",
       "      <td>6.31</td>\n",
       "    </tr>\n",
       "  </tbody>\n",
       "</table>\n",
       "</div>"
      ],
      "text/plain": [
       "       count   mean       std   min     25%    50%     75%   max\n",
       "group                                                           \n",
       "ctrl    10.0  5.032  0.583091  4.17  4.5500  5.155  5.2925  6.11\n",
       "trt1    10.0  4.661  0.793676  3.59  4.2075  4.550  4.8700  6.03\n",
       "trt2    10.0  5.526  0.442573  4.92  5.2675  5.435  5.7350  6.31"
      ]
     },
     "execution_count": 88,
     "metadata": {},
     "output_type": "execute_result"
    }
   ],
   "source": [
    "plantg.groupby('group')['weight'].describe()        "
   ]
  },
  {
   "cell_type": "code",
   "execution_count": 89,
   "id": "eeaa252c-f6eb-45c4-9e90-f3d834ae786e",
   "metadata": {
    "scrolled": true
   },
   "outputs": [
    {
     "data": {
      "text/plain": [
       "<Axes: xlabel='group', ylabel='weight'>"
      ]
     },
     "execution_count": 89,
     "metadata": {},
     "output_type": "execute_result"
    },
    {
     "data": {
      "image/png": "[encoded data removed]",
      "text/plain": [
       "<Figure size 640x480 with 1 Axes>"
      ]
     },
     "metadata": {},
     "output_type": "display_data"
    }
   ],
   "source": [
    "sns.boxplot(x='group',y='weight',data=plantg)"
   ]
  },
  {
   "cell_type": "markdown",
   "id": "77766556-86de-4b5c-8418-992e73303fc3",
   "metadata": {},
   "source": [
    "The ctrl treatment showed the greatest variability in scores and may be skewed to the left. In comparison, the trt1 treatment had the lowest average weight, while the trt2 treatment had the highest average weight among the three."
   ]
  },
  {
   "cell_type": "markdown",
   "id": "2c453c3e-154e-4063-9e48-1176845d5a92",
   "metadata": {},
   "source": [
    "Anova has two types of test: one-way and two way (can be with or without replication).\n",
    "one-way between group used to test two groups to see if there's a difference between them. one way has one independent variable affecting a dependent variable. the one way tell that at least two groups were different from each other. But it won't tell you which groups were different. \n",
    "Two way has two independent variable. two way is used when you have one quantitative outcome and you have two categorical explanatory variables\n",
    "Two way without replication used when you have one group an you're double-testing that same group. Two way ANOVA with replication: Two groups, and the members of those groups are doing more than one thing (Statistics How To, n.d.)."
   ]
  },
  {
   "cell_type": "markdown",
   "id": "52e77d2b-cbb0-45e3-a0cd-3384680ad1b0",
   "metadata": {},
   "source": [
    "The purpose of a one-way ANOVA (analysis of variance) test is to determine the existence of a statistically significant difference among the means of three or more populations.  The test actually uses variances to help determine if the population means are equal or not.\n",
    "\n",
    "The following assumptions are required to use a one-way ANOVA test:\n",
    "\n",
    "\r\n",
    "Each population from which a sample is taken is normally distributed.\r\n",
    "All samples are randomly selected and independently taken from the populations.\r\n",
    "The populations are assumed to have equal variances.\r\n",
    "The population data is numerical (interval or ratio level).(Watts, 2022)."
   ]
  },
  {
   "cell_type": "markdown",
   "id": "f5278162-a0b1-46c9-9f8f-05ee44367331",
   "metadata": {},
   "source": [
    "hypoyhesis\n",
    "h0 = all means are equal\n",
    "hA =  at least one population mean is different from the others\r\n"
   ]
  },
  {
   "cell_type": "code",
   "execution_count": 90,
   "id": "38dd474b-5709-4c6e-9c0c-2351ee2edd0e",
   "metadata": {},
   "outputs": [
    {
     "name": "stdout",
     "output_type": "stream",
     "text": [
      "\n",
      "ANOVA Test:\n",
      "F-statistic: 4.846087862380136\n",
      "p-value: 0.0159099583256229\n"
     ]
    }
   ],
   "source": [
    " #ANOVA test\n",
    "from scipy.stats import f_oneway\n",
    "\n",
    "f_statistic, p_value = f_oneway(plantg[plantg['group'] == 'ctrl']['weight'],\n",
    "                                plantg[plantg['group'] == 'trt1']['weight'],\n",
    "                                plantg[plantg['group'] == 'trt2']['weight'])\n",
    "\n",
    "alpha = 0.05\n",
    "print(\"\\nANOVA Test:\")\n",
    "print(\"F-statistic:\", f_statistic)\n",
    "print(\"p-value:\", p_value)"
   ]
  },
  {
   "cell_type": "code",
   "execution_count": 91,
   "id": "4deab4b0-627a-4e6d-8f08-58933a0ea09e",
   "metadata": {},
   "outputs": [
    {
     "name": "stdout",
     "output_type": "stream",
     "text": [
      "Reject the null hypothesis: The differences between some of the means are statistically significant.\n"
     ]
    }
   ],
   "source": [
    "p_value: 0.0159099583256229\n",
    "\n",
    "alpha = 0.05\n",
    "\n",
    "if p_value < alpha:\n",
    "    print(\"Reject the null hypothesis: The differences between some of the means are statistically significant.\")\n",
    "else:\n",
    "    print(\"Fail to reject the null hypothesis: The differences between the means are not statistically significant.\")\n"
   ]
  },
  {
   "cell_type": "markdown",
   "id": "0b6b4b4d-43fd-4678-9bbf-5a2e325b19bb",
   "metadata": {},
   "source": [
    "The p-value is less than significance level (0.05), so reject the null hypothhesis and conclude that not all population means are equal."
   ]
  },
  {
   "cell_type": "code",
   "execution_count": 92,
   "id": "0c867b5d-35f6-4362-a201-a24d6b9bce91",
   "metadata": {},
   "outputs": [
    {
     "data": {
      "image/png": "[encoded data removed]",
      "text/plain": [
       "<Figure size 1000x600 with 1 Axes>"
      ]
     },
     "metadata": {},
     "output_type": "display_data"
    }
   ],
   "source": [
    "import seaborn as sns\n",
    "import matplotlib.pyplot as plt\n",
    "\n",
    "# Plotting\n",
    "plt.figure(figsize=(10, 6))\n",
    "sns.pointplot(x='group', y='weight', data=plantg, ci=95)\n",
    "plt.title('Mean and Confidence Interval for Each Group')\n",
    "plt.xlabel('Group')\n",
    "plt.ylabel('Weight')\n",
    "plt.show()\n"
   ]
  },
  {
   "cell_type": "markdown",
   "id": "9b4dd26e-1818-4c4e-bef0-fde615c07f8b",
   "metadata": {},
   "source": [
    "In the interval plot, trt1 has the lowest mean and trt2 has the highest. but just with this graph, we cannot determine whether any differences are statistically significant."
   ]
  },
  {
   "cell_type": "markdown",
   "id": "32755c4f-c98c-48a9-aade-ad7acfd9233d",
   "metadata": {},
   "source": [
    "To determine where the difference between means may lie, I will utilize two methods: the Tukey method and the Dunnett method.\n",
    "Tukey method: ANOVA will tell you if there are differences among the levels of the independent variable, but not which differences are significant. To find how the treatment levels differ from one another, perform a TukeyHSD (Tukey’s Honestly-Significant Difference) post-hoc test.y)\r\n",
    "The Tukey test runs pairwise comparisons among each of the groups, and uses a conservative error estimate to find the groups which are statistically different from one ano (scipy.github.io, n.d.)th\n",
    "aDs.\n",
    "dunnett method: is used in ANOVA to create confidence intervals for differences between the mean of each factor level and the mean of a control group. If an interval contains zero, then there is no significant difference between the two means under comparison. You specify a family error rate for all comparisons, and Dunnett's method determines the confidence levels for each individual comparison accordingly (Minitab support, n.d.)."
   ]
  },
  {
   "cell_type": "code",
   "execution_count": 93,
   "id": "87357aa4-e8bc-4963-873a-55cae0aeb296",
   "metadata": {},
   "outputs": [
    {
     "name": "stdout",
     "output_type": "stream",
     "text": [
      "Dunnett's test (95.0% Confidence Interval)\n",
      "Comparison               Statistic  p-value  Lower CI  Upper CI\n",
      " (Sample 0 - Control)     -1.331     0.323    -1.021     0.279\n",
      " (Sample 1 - Control)      1.772     0.153    -0.156     1.144\n",
      "\n"
     ]
    }
   ],
   "source": [
    "from scipy.stats import dunnett\n",
    "trt1 = plantg[plantg['group'] == 'trt1']['weight']\n",
    "trt2 = plantg[plantg['group'] == 'trt2']['weight']\n",
    "crt1 = plantg[plantg['group'] == 'ctrl']['weight']\n",
    "\n",
    "res = dunnett(trt1, trt2, control = crt1)\n",
    "res.pvalue\n",
    "\n",
    "print(res)"
   ]
  },
  {
   "cell_type": "markdown",
   "id": "ea2f0acb-f231-4b68-9fe0-f343251563e7",
   "metadata": {},
   "source": [
    "\n",
    "The p-value (0.323) corresponding with the comparison between sample 0 (trt1)  and control exceeds 0.05.\n",
    "The p-value (0.154) corresponding with the comparison between sample 0 (trt2)  and control exceeds 0.05.\n",
    "\n",
    "This means we do not have sufficient evidence to say that there is a difference between the control treatment and the two treatments (trt1 and trt2).\n",
    "Therefore, there is no significant evidence that the means of treatment compared to the control group differ. So in this case we \"Fail to reject the null hypothesis: The differences between the means are not statistically significant.\"\n",
    "p."
   ]
  },
  {
   "cell_type": "code",
   "execution_count": 94,
   "id": "71ed7a93-c2c2-4986-81f6-008ca7888723",
   "metadata": {},
   "outputs": [
    {
     "name": "stdout",
     "output_type": "stream",
     "text": [
      "Multiple Comparison of Means - Tukey HSD, FWER=0.05\n",
      "===================================================\n",
      "group1 group2 meandiff p-adj   lower  upper  reject\n",
      "---------------------------------------------------\n",
      "  ctrl   trt1   -0.371 0.3909 -1.0622 0.3202  False\n",
      "  ctrl   trt2    0.494  0.198 -0.1972 1.1852  False\n",
      "  trt1   trt2    0.865  0.012  0.1738 1.5562   True\n",
      "---------------------------------------------------\n"
     ]
    }
   ],
   "source": [
    "from statsmodels.stats.multicomp import pairwise_tukeyhsd\n",
    "\n",
    "# perform Tukey's test\n",
    "tukey = pairwise_tukeyhsd(endog=plantg['weight'],\n",
    "                          groups=plantg['group'],\n",
    "                          alpha=0.05)\n",
    "\n",
    "#display results\n",
    "print(tukey)"
   ]
  },
  {
   "cell_type": "markdown",
   "id": "7d9a12d4-8045-4347-b31d-fe3e6abbce60",
   "metadata": {},
   "source": [
    "According to Tukey's method, the only one that has a statistically evident difference is the comparison between trt1 and trt2  the p-adj (0.012) is less than the alpha value 0.05, so in this case, we can reject the null hypothesis and accept that the 'differences between some of the means are statistically significant'. "
   ]
  },
  {
   "cell_type": "code",
   "execution_count": null,
   "id": "7617d716-6abf-4688-bdf4-cd470690359c",
   "metadata": {},
   "outputs": [],
   "source": []
  },
  {
   "cell_type": "markdown",
   "id": "ce5dbfbb-0f92-4c1a-a91f-f6b579448a6c",
   "metadata": {},
   "source": [
    "### Task 4: "
   ]
  },
  {
   "cell_type": "code",
   "execution_count": 95,
   "id": "1e034220-4699-4ffc-870e-a633be49ee21",
   "metadata": {},
   "outputs": [],
   "source": [
    "from pydataset import data\n",
    "import pandas as pd\n",
    "from scipy.stats import pearsonr\n",
    "\n",
    "\n",
    "trees = data('trees')\n"
   ]
  },
  {
   "cell_type": "code",
   "execution_count": 80,
   "id": "1a643b74-00ac-4be8-be95-1012a880a506",
   "metadata": {},
   "outputs": [
    {
     "data": {
      "text/html": [
       "<div>\n",
       "<style scoped>\n",
       "    .dataframe tbody tr th:only-of-type {\n",
       "        vertical-align: middle;\n",
       "    }\n",
       "\n",
       "    .dataframe tbody tr th {\n",
       "        vertical-align: top;\n",
       "    }\n",
       "\n",
       "    .dataframe thead th {\n",
       "        text-align: right;\n",
       "    }\n",
       "</style>\n",
       "<table border=\"1\" class=\"dataframe\">\n",
       "  <thead>\n",
       "    <tr style=\"text-align: right;\">\n",
       "      <th></th>\n",
       "      <th>Girth</th>\n",
       "      <th>Height</th>\n",
       "      <th>Volume</th>\n",
       "    </tr>\n",
       "  </thead>\n",
       "  <tbody>\n",
       "    <tr>\n",
       "      <th>1</th>\n",
       "      <td>8.3</td>\n",
       "      <td>70</td>\n",
       "      <td>10.3</td>\n",
       "    </tr>\n",
       "    <tr>\n",
       "      <th>2</th>\n",
       "      <td>8.6</td>\n",
       "      <td>65</td>\n",
       "      <td>10.3</td>\n",
       "    </tr>\n",
       "    <tr>\n",
       "      <th>3</th>\n",
       "      <td>8.8</td>\n",
       "      <td>63</td>\n",
       "      <td>10.2</td>\n",
       "    </tr>\n",
       "    <tr>\n",
       "      <th>4</th>\n",
       "      <td>10.5</td>\n",
       "      <td>72</td>\n",
       "      <td>16.4</td>\n",
       "    </tr>\n",
       "    <tr>\n",
       "      <th>5</th>\n",
       "      <td>10.7</td>\n",
       "      <td>81</td>\n",
       "      <td>18.8</td>\n",
       "    </tr>\n",
       "  </tbody>\n",
       "</table>\n",
       "</div>"
      ],
      "text/plain": [
       "   Girth  Height  Volume\n",
       "1    8.3      70    10.3\n",
       "2    8.6      65    10.3\n",
       "3    8.8      63    10.2\n",
       "4   10.5      72    16.4\n",
       "5   10.7      81    18.8"
      ]
     },
     "execution_count": 80,
     "metadata": {},
     "output_type": "execute_result"
    }
   ],
   "source": [
    "trees.head()"
   ]
  },
  {
   "cell_type": "code",
   "execution_count": 96,
   "id": "c4677c7b-1f15-41d9-a406-6e650384e5f6",
   "metadata": {},
   "outputs": [
    {
     "data": {
      "text/plain": [
       "(31, 3)"
      ]
     },
     "execution_count": 96,
     "metadata": {},
     "output_type": "execute_result"
    }
   ],
   "source": [
    "trees.shape"
   ]
  },
  {
   "cell_type": "code",
   "execution_count": 97,
   "id": "c5cffaf0-4a14-4b44-8ddd-077f40dffbf7",
   "metadata": {},
   "outputs": [
    {
     "name": "stdout",
     "output_type": "stream",
     "text": [
      "<class 'pandas.core.frame.DataFrame'>\n",
      "Index: 31 entries, 1 to 31\n",
      "Data columns (total 3 columns):\n",
      " #   Column  Non-Null Count  Dtype  \n",
      "---  ------  --------------  -----  \n",
      " 0   Girth   31 non-null     float64\n",
      " 1   Height  31 non-null     int64  \n",
      " 2   Volume  31 non-null     float64\n",
      "dtypes: float64(2), int64(1)\n",
      "memory usage: 992.0 bytes\n"
     ]
    }
   ],
   "source": [
    "trees.info()"
   ]
  },
  {
   "cell_type": "code",
   "execution_count": 98,
   "id": "ce1741ee-51f0-47f3-a903-3443da40b49d",
   "metadata": {
    "scrolled": true
   },
   "outputs": [
    {
     "data": {
      "text/html": [
       "<div>\n",
       "<style scoped>\n",
       "    .dataframe tbody tr th:only-of-type {\n",
       "        vertical-align: middle;\n",
       "    }\n",
       "\n",
       "    .dataframe tbody tr th {\n",
       "        vertical-align: top;\n",
       "    }\n",
       "\n",
       "    .dataframe thead th {\n",
       "        text-align: right;\n",
       "    }\n",
       "</style>\n",
       "<table border=\"1\" class=\"dataframe\">\n",
       "  <thead>\n",
       "    <tr style=\"text-align: right;\">\n",
       "      <th></th>\n",
       "      <th>Girth</th>\n",
       "      <th>Height</th>\n",
       "      <th>Volume</th>\n",
       "    </tr>\n",
       "  </thead>\n",
       "  <tbody>\n",
       "    <tr>\n",
       "      <th>count</th>\n",
       "      <td>31.000000</td>\n",
       "      <td>31.000000</td>\n",
       "      <td>31.000000</td>\n",
       "    </tr>\n",
       "    <tr>\n",
       "      <th>mean</th>\n",
       "      <td>13.248387</td>\n",
       "      <td>76.000000</td>\n",
       "      <td>30.170968</td>\n",
       "    </tr>\n",
       "    <tr>\n",
       "      <th>std</th>\n",
       "      <td>3.138139</td>\n",
       "      <td>6.371813</td>\n",
       "      <td>16.437846</td>\n",
       "    </tr>\n",
       "    <tr>\n",
       "      <th>min</th>\n",
       "      <td>8.300000</td>\n",
       "      <td>63.000000</td>\n",
       "      <td>10.200000</td>\n",
       "    </tr>\n",
       "    <tr>\n",
       "      <th>25%</th>\n",
       "      <td>11.050000</td>\n",
       "      <td>72.000000</td>\n",
       "      <td>19.400000</td>\n",
       "    </tr>\n",
       "    <tr>\n",
       "      <th>50%</th>\n",
       "      <td>12.900000</td>\n",
       "      <td>76.000000</td>\n",
       "      <td>24.200000</td>\n",
       "    </tr>\n",
       "    <tr>\n",
       "      <th>75%</th>\n",
       "      <td>15.250000</td>\n",
       "      <td>80.000000</td>\n",
       "      <td>37.300000</td>\n",
       "    </tr>\n",
       "    <tr>\n",
       "      <th>max</th>\n",
       "      <td>20.600000</td>\n",
       "      <td>87.000000</td>\n",
       "      <td>77.000000</td>\n",
       "    </tr>\n",
       "  </tbody>\n",
       "</table>\n",
       "</div>"
      ],
      "text/plain": [
       "           Girth     Height     Volume\n",
       "count  31.000000  31.000000  31.000000\n",
       "mean   13.248387  76.000000  30.170968\n",
       "std     3.138139   6.371813  16.437846\n",
       "min     8.300000  63.000000  10.200000\n",
       "25%    11.050000  72.000000  19.400000\n",
       "50%    12.900000  76.000000  24.200000\n",
       "75%    15.250000  80.000000  37.300000\n",
       "max    20.600000  87.000000  77.000000"
      ]
     },
     "execution_count": 98,
     "metadata": {},
     "output_type": "execute_result"
    }
   ],
   "source": [
    "trees.describe()"
   ]
  },
  {
   "cell_type": "code",
   "execution_count": 103,
   "id": "52c6de88-4a41-48e6-98d1-47c13e48b4ae",
   "metadata": {},
   "outputs": [
    {
     "data": {
      "image/png": "[encoded data removed]",
      "text/plain": [
       "<Figure size 750x750 with 12 Axes>"
      ]
     },
     "metadata": {},
     "output_type": "display_data"
    }
   ],
   "source": [
    "sns.pairplot(trees)\n",
    "plt.show()"
   ]
  },
  {
   "cell_type": "markdown",
   "id": "a2841172-316a-4bb3-b1e2-856172bd87ad",
   "metadata": {},
   "source": [
    "o pairplot nos mostra que temos uma boa approximately linear relationship between girth and volume. mas  girth/heigh e height/volume nao tem uma boa aproximacao linear.  "
   ]
  },
  {
   "cell_type": "code",
   "execution_count": 109,
   "id": "c52b399b-8e43-42b7-966b-db27a90c2409",
   "metadata": {},
   "outputs": [
    {
     "data": {
      "text/plain": [
       "Girth     0\n",
       "Height    0\n",
       "Volume    0\n",
       "dtype: int64"
      ]
     },
     "execution_count": 109,
     "metadata": {},
     "output_type": "execute_result"
    }
   ],
   "source": [
    "trees.isnull().sum()"
   ]
  },
  {
   "cell_type": "code",
   "execution_count": 111,
   "id": "ed3089fd-57e8-40ba-af8b-a34aeea5ae40",
   "metadata": {},
   "outputs": [
    {
     "data": {
      "text/plain": [
       "0"
      ]
     },
     "execution_count": 111,
     "metadata": {},
     "output_type": "execute_result"
    }
   ],
   "source": [
    "trees.duplicated().sum()"
   ]
  },
  {
   "cell_type": "markdown",
   "id": "304a8c67-d4b3-410d-8825-9e3c0a859281",
   "metadata": {},
   "source": [
    "identificar se tem outliers nos dados"
   ]
  },
  {
   "cell_type": "code",
   "execution_count": 115,
   "id": "08035be7-8b36-4ff9-8ea6-e500230d3d97",
   "metadata": {},
   "outputs": [
    {
     "data": {
      "image/png": "[encoded data removed]",
      "text/plain": [
       "<Figure size 1500x500 with 1 Axes>"
      ]
     },
     "metadata": {},
     "output_type": "display_data"
    }
   ],
   "source": [
    "boxplot = trees.boxplot(figsize= (15, 5))  "
   ]
  },
  {
   "cell_type": "markdown",
   "id": "8863c6e9-b29e-4578-804c-9759684f995e",
   "metadata": {},
   "source": [
    "Fisrt goal: a. Perform a correlation analysis between all numerical variables. Include and comment on \n",
    "the results of hypothesis tests for the population correlation coefficients between all three \n",
    "pairs of variables (you can use the pearsonr function from the scipy.stats library)."
   ]
  },
  {
   "cell_type": "markdown",
   "id": "d120c5a9-f24e-4fc3-b7a2-d1d4087a6064",
   "metadata": {},
   "source": [
    "The Pearson correlation coefficient [1] measures the linear relationship between two datasets. Like other correlation coefficients, this one varies between -1 and +1 with 0 implying no correlation. Correlations of -1 or +1 imply an exact linear relationship. Positive correlations imply that as x increases, so does y. Negative correlations imply that as x increases, y decreases(Scipy.org, 2019).\n",
    "\n",
    "Pearson’s correlation coefficients measure only linear relationships. Consequently, if your data contain a curvilinear relationship, the Pearson correlation coefficient will not detect it (Frost, 2018). \n",
    "\n",
    "ρ = population correlation coefficient\n",
    "\n",
    "Null hypothesis: There is no linear relationship between the two variables. ρ = 0.\r\n",
    "\n",
    "Alternative hypothesis: There is a linear relationship between the two variables. ρ ≠ 0."
   ]
  },
  {
   "cell_type": "code",
   "execution_count": 122,
   "id": "e1369c71-252f-4d13-bb15-14e8429fa225",
   "metadata": {},
   "outputs": [
    {
     "data": {
      "text/plain": [
       "PearsonRResult(statistic=0.5192800719499373, pvalue=0.0027578147930576663)"
      ]
     },
     "execution_count": 122,
     "metadata": {},
     "output_type": "execute_result"
    }
   ],
   "source": [
    "from scipy import stats\n",
    "\n",
    "# Apply the pearsonr()\n",
    "res = stats.pearsonr(trees['Girth'], trees['Height'])\n",
    "res"
   ]
  },
  {
   "cell_type": "code",
   "execution_count": 142,
   "id": "45875f51-719d-47da-849c-72c5f11796d7",
   "metadata": {},
   "outputs": [
    {
     "data": {
      "image/png": "[encoded data removed]",
      "text/plain": [
       "<Figure size 500x500 with 1 Axes>"
      ]
     },
     "metadata": {},
     "output_type": "display_data"
    }
   ],
   "source": [
    "#The easiest way to “add” a best-fit line to a scatterplot is to use a different plotting method. Seaborn’s lmplot() method (where “lm” stands for “linear model”)(www.sfu.ca, n.d.). \n",
    "\n",
    "sns.lmplot(x=\"Girth\", y=\"Height\", data=trees)\n"
   ]
  },
  {
   "cell_type": "markdown",
   "id": "a897fb2f-04f3-449f-9dc7-794575664aba",
   "metadata": {},
   "source": [
    "The coefficient R 0.519 fits in a positive relationship and the p-value is less than 0.05 with these results we can reject the null hypothesis. There is sufficient evidence to conclude that there is a linear relationship between Girth (x) and Height (y) because the correlation coefficient is significantly different from zero. When the distance between the points on the drawn line is not very close, it suggests a moderate correlation, as indicated by a correlation coefficient of 0.519."
   ]
  },
  {
   "cell_type": "code",
   "execution_count": 124,
   "id": "99b85043-830c-4e2f-ba7d-dbb859687256",
   "metadata": {},
   "outputs": [
    {
     "data": {
      "text/plain": [
       "PearsonRResult(statistic=0.5982496519917823, pvalue=0.00037838234791848544)"
      ]
     },
     "execution_count": 124,
     "metadata": {},
     "output_type": "execute_result"
    }
   ],
   "source": [
    "# Apply the pearsonr()\n",
    "res = stats.pearsonr(trees['Height'], trees['Volume'])\n",
    "res"
   ]
  },
  {
   "cell_type": "code",
   "execution_count": 143,
   "id": "5eca15b9-5619-48ee-b3e3-26471595b62d",
   "metadata": {},
   "outputs": [
    {
     "data": {
      "text/plain": [
       "<seaborn.axisgrid.FacetGrid at 0x1c0001f5a10>"
      ]
     },
     "execution_count": 143,
     "metadata": {},
     "output_type": "execute_result"
    },
    {
     "data": {
      "image/png": "[encoded data removed]",
      "text/plain": [
       "<Figure size 500x500 with 1 Axes>"
      ]
     },
     "metadata": {},
     "output_type": "display_data"
    }
   ],
   "source": [
    "sns.lmplot(x=\"Height\", y=\"Volume\", data=trees)"
   ]
  },
  {
   "cell_type": "markdown",
   "id": "edd69c3a-c878-4a88-96be-21bd94075d22",
   "metadata": {},
   "source": [
    "The same occurs in height and volume, if there is a positive relationship the p-value is less than 0.05, however we have a moderate correlation, since according to the graph the points are far from each other."
   ]
  },
  {
   "cell_type": "code",
   "execution_count": 123,
   "id": "8a7ccbdd-ee93-4785-bafd-7b5fdfcf2a77",
   "metadata": {},
   "outputs": [
    {
     "data": {
      "text/plain": [
       "PearsonRResult(statistic=0.9671193682556305, pvalue=8.6443342117705775e-19)"
      ]
     },
     "execution_count": 123,
     "metadata": {},
     "output_type": "execute_result"
    }
   ],
   "source": [
    "# Apply the pearsonr()\n",
    "res = stats.pearsonr(trees['Girth'], trees['Volume'])\n",
    "res"
   ]
  },
  {
   "cell_type": "code",
   "execution_count": 144,
   "id": "c49d5bf0-657d-4d89-b26b-2a30b7331f1e",
   "metadata": {},
   "outputs": [
    {
     "data": {
      "text/plain": [
       "<seaborn.axisgrid.FacetGrid at 0x1c00022d290>"
      ]
     },
     "execution_count": 144,
     "metadata": {},
     "output_type": "execute_result"
    },
    {
     "data": {
      "image/png": "[encoded data removed]",
      "text/plain": [
       "<Figure size 500x500 with 1 Axes>"
      ]
     },
     "metadata": {},
     "output_type": "display_data"
    }
   ],
   "source": [
    "sns.lmplot(x=\"Girt\", y=\"Volume\", data=trees)"
   ]
  },
  {
   "cell_type": "markdown",
   "id": "a31ce64b-ce90-4382-9e0a-db57cd46cc42",
   "metadata": {},
   "source": [
    "The correlation coefficient between 'Girth' and 'Volume' is 0.967, which is higher compared to the other values obtained. The points on the graph are close to each other,  forming a perfect line and indicating a very strong linear relationship. A positive correlation implies that as 'Girth' increases, so does 'Volume'. Therefore, we can reject the null hypothesis since the p-value is less than 0.05 and the correlation coefficient is different from zero."
   ]
  },
  {
   "cell_type": "markdown",
   "id": "e4ae79cf-80c8-4cb6-9b36-02345d75fec3",
   "metadata": {},
   "source": [
    "multiple linear regression\n",
    "\n",
    "Multiple Linear Regression is an extension of Simple Linear regression as it takes more than one predictor variable to predict the response variable. It is an important regression algorithm that models the linear relationship between a single dependent continuous variable and more than one independent variable. It uses two or more independent variables to predict a dependent variable by fitting a best linear relationship (Yadav, 2021)."
   ]
  },
  {
   "cell_type": "markdown",
   "id": "88e4cf3f-578b-4a8b-b5aa-089416a9328c",
   "metadata": {},
   "source": [
    "### Model 1: Girth + Height"
   ]
  },
  {
   "cell_type": "code",
   "execution_count": 146,
   "id": "71aee1ab-cac6-4804-bc6a-c43f65b0eb75",
   "metadata": {},
   "outputs": [
    {
     "name": "stdout",
     "output_type": "stream",
     "text": [
      "                            OLS Regression Results                            \n",
      "==============================================================================\n",
      "Dep. Variable:                 Volume   R-squared:                       0.948\n",
      "Model:                            OLS   Adj. R-squared:                  0.944\n",
      "Method:                 Least Squares   F-statistic:                     255.0\n",
      "Date:                Fri, 17 May 2024   Prob (F-statistic):           1.07e-18\n",
      "Time:                        20:31:47   Log-Likelihood:                -84.455\n",
      "No. Observations:                  31   AIC:                             174.9\n",
      "Df Residuals:                      28   BIC:                             179.2\n",
      "Df Model:                           2                                         \n",
      "Covariance Type:            nonrobust                                         \n",
      "==============================================================================\n",
      "                 coef    std err          t      P>|t|      [0.025      0.975]\n",
      "------------------------------------------------------------------------------\n",
      "const        -57.9877      8.638     -6.713      0.000     -75.682     -40.293\n",
      "Girth          4.7082      0.264     17.816      0.000       4.167       5.249\n",
      "Height         0.3393      0.130      2.607      0.014       0.073       0.606\n",
      "==============================================================================\n",
      "Omnibus:                        0.923   Durbin-Watson:                   1.266\n",
      "Prob(Omnibus):                  0.630   Jarque-Bera (JB):                0.950\n",
      "Skew:                           0.310   Prob(JB):                        0.622\n",
      "Kurtosis:                       2.408   Cond. No.                         959.\n",
      "==============================================================================\n",
      "\n",
      "Notes:\n",
      "[1] Standard Errors assume that the covariance matrix of the errors is correctly specified.\n"
     ]
    }
   ],
   "source": [
    "import statsmodels.api as sm\n",
    "\n",
    "#define response variable\n",
    "y = trees['Volume']\n",
    "\n",
    "#define predictor variables\n",
    "x = trees[['Girth', 'Height']]\n",
    "\n",
    "#add constant to predictor variables\n",
    "x = sm.add_constant(x)\n",
    "\n",
    "#fit linear regression model\n",
    "model1 = sm.OLS(y, x).fit()\n",
    "\n",
    "#view model summary\n",
    "print(model1.summary())"
   ]
  },
  {
   "cell_type": "markdown",
   "id": "8df28078-5b37-48b8-8e42-297a6a86aad2",
   "metadata": {},
   "source": [
    "Results\n",
    "Model 1 (Girt + Height): The R-squared is 0.948, which is our coefficient of determination, which indicates that 94.8 of volume can be explained by Girth and Height, and looking at the p-value of both, we can say that the two are quite significant to predict volume, but girth is more important since its p-value is equal to zero, i.e. less than the alpha significance level of .05."
   ]
  },
  {
   "cell_type": "markdown",
   "id": "6071be95-b07b-4555-8727-df95599bfab9",
   "metadata": {},
   "source": [
    "### Model 2: Height"
   ]
  },
  {
   "cell_type": "code",
   "execution_count": 148,
   "id": "6ec9799e-881b-491d-828e-ecfc4f4b8edf",
   "metadata": {},
   "outputs": [
    {
     "name": "stdout",
     "output_type": "stream",
     "text": [
      "                            OLS Regression Results                            \n",
      "==============================================================================\n",
      "Dep. Variable:                 Volume   R-squared:                       0.358\n",
      "Model:                            OLS   Adj. R-squared:                  0.336\n",
      "Method:                 Least Squares   F-statistic:                     16.16\n",
      "Date:                Fri, 17 May 2024   Prob (F-statistic):           0.000378\n",
      "Time:                        20:33:33   Log-Likelihood:                -123.40\n",
      "No. Observations:                  31   AIC:                             250.8\n",
      "Df Residuals:                      29   BIC:                             253.7\n",
      "Df Model:                           1                                         \n",
      "Covariance Type:            nonrobust                                         \n",
      "==============================================================================\n",
      "                 coef    std err          t      P>|t|      [0.025      0.975]\n",
      "------------------------------------------------------------------------------\n",
      "const        -87.1236     29.273     -2.976      0.006    -146.994     -27.253\n",
      "Height         1.5433      0.384      4.021      0.000       0.758       2.328\n",
      "==============================================================================\n",
      "Omnibus:                        1.994   Durbin-Watson:                   0.501\n",
      "Prob(Omnibus):                  0.369   Jarque-Bera (JB):                1.624\n",
      "Skew:                           0.406   Prob(JB):                        0.444\n",
      "Kurtosis:                       2.227   Cond. No.                         928.\n",
      "==============================================================================\n",
      "\n",
      "Notes:\n",
      "[1] Standard Errors assume that the covariance matrix of the errors is correctly specified.\n"
     ]
    }
   ],
   "source": [
    "import statsmodels.api as sm\n",
    "\n",
    "#define response variable\n",
    "y = trees['Volume']\n",
    "\n",
    "#define predictor variables\n",
    "x = trees[['Height']]\n",
    "\n",
    "#add constant to predictor variables\n",
    "x = sm.add_constant(x)\n",
    "\n",
    "#fit linear regression model\n",
    "model2 = sm.OLS(y, x).fit()\n",
    "\n",
    "#view model summary\n",
    "print(model2.summary())"
   ]
  },
  {
   "cell_type": "markdown",
   "id": "56092b23-c4c3-414a-b4ee-a66843a2a7e7",
   "metadata": {},
   "source": [
    "Model 2 (Height): The R-squared is 0.358, which indicates that 35.8% of volume can be explained by height, and looking at the p-value, we can say that the height is statistically significant to predict volume. However, it only predicts 35.8% of volume, so the model fit is poor compared to Model 1."
   ]
  },
  {
   "cell_type": "markdown",
   "id": "82eba0ff-7e2e-4071-9c45-ed1a20e0fec2",
   "metadata": {},
   "source": [
    "### Model 3 : Girth"
   ]
  },
  {
   "cell_type": "code",
   "execution_count": 150,
   "id": "31af5d3e-ef0d-4e68-91ab-59195c90dae6",
   "metadata": {
    "scrolled": true
   },
   "outputs": [
    {
     "name": "stdout",
     "output_type": "stream",
     "text": [
      "                            OLS Regression Results                            \n",
      "==============================================================================\n",
      "Dep. Variable:                 Volume   R-squared:                       0.935\n",
      "Model:                            OLS   Adj. R-squared:                  0.933\n",
      "Method:                 Least Squares   F-statistic:                     419.4\n",
      "Date:                Fri, 17 May 2024   Prob (F-statistic):           8.64e-19\n",
      "Time:                        20:35:03   Log-Likelihood:                -87.822\n",
      "No. Observations:                  31   AIC:                             179.6\n",
      "Df Residuals:                      29   BIC:                             182.5\n",
      "Df Model:                           1                                         \n",
      "Covariance Type:            nonrobust                                         \n",
      "==============================================================================\n",
      "                 coef    std err          t      P>|t|      [0.025      0.975]\n",
      "------------------------------------------------------------------------------\n",
      "const        -36.9435      3.365    -10.978      0.000     -43.826     -30.061\n",
      "Girth          5.0659      0.247     20.478      0.000       4.560       5.572\n",
      "==============================================================================\n",
      "Omnibus:                        0.169   Durbin-Watson:                   1.437\n",
      "Prob(Omnibus):                  0.919   Jarque-Bera (JB):                0.382\n",
      "Skew:                           0.028   Prob(JB):                        0.826\n",
      "Kurtosis:                       2.459   Cond. No.                         60.3\n",
      "==============================================================================\n",
      "\n",
      "Notes:\n",
      "[1] Standard Errors assume that the covariance matrix of the errors is correctly specified.\n"
     ]
    }
   ],
   "source": [
    "import statsmodels.api as sm\n",
    "\n",
    "#define response variable\n",
    "y = trees['Volume']\n",
    "\n",
    "#define predictor variables\n",
    "x = trees['Girth']\n",
    "\n",
    "#add constant to predictor variables\n",
    "x = sm.add_constant(x)\n",
    "\n",
    "#fit linear regression model\n",
    "model3 = sm.OLS(y, x).fit()\n",
    "\n",
    "#view model summary\n",
    "print(model3.summary())"
   ]
  },
  {
   "cell_type": "markdown",
   "id": "61bd0065-f464-4608-95d5-cac584410dcb",
   "metadata": {},
   "source": [
    "Results\n",
    "Model 3 (Girt): The R-squared is 0.935, which indicates that 93.5% of volume can be explained by girth, and looking at the p-value, we can say that the girth is highly statistically significant (p-value=0.000) to predict volume. "
   ]
  },
  {
   "cell_type": "code",
   "execution_count": 160,
   "id": "8245c771-79ce-4bb0-8222-2b743d2f756f",
   "metadata": {},
   "outputs": [
    {
     "data": {
      "text/plain": [
       "Text(0, 0.5, 'Volume')"
      ]
     },
     "execution_count": 160,
     "metadata": {},
     "output_type": "execute_result"
    },
    {
     "data": {
      "image/png": "[encoded data removed]",
      "text/plain": [
       "<Figure size 640x480 with 1 Axes>"
      ]
     },
     "metadata": {},
     "output_type": "display_data"
    }
   ],
   "source": [
    "import matplotlib.pyplot as plt\n",
    "\n",
    "# Find line of best fit\n",
    "a, b = np.polyfit(trees['Girth'].values, trees['Volume'], 1)\n",
    "\n",
    "# Add points to plot\n",
    "plt.scatter(trees['Girth'], trees['Volume'], color='purple')\n",
    "\n",
    "# Add line of best fit to plot\n",
    "plt.plot(trees['Girth'], a * trees['Girth'] + b)\n",
    "\n",
    "# Add fitted regression equation to plot\n",
    "plt.text(1, 90, 'y = {:.3f} + {:.3f}x'.format(b, a), size=12)\n",
    "\n",
    "# Add axis labels\n",
    "plt.xlabel('Girth')\n",
    "plt.ylabel('Volume')\n"
   ]
  },
  {
   "cell_type": "markdown",
   "id": "6611d01d-72ce-43a8-b2bc-6808e1177a2b",
   "metadata": {},
   "source": [
    "Among the three linear regression models, the ones that best estimate volume are models 1 and 3. Model 1 explains 94.8% of the volume, being one of those that would indicate estimating the volume. However, model 3 would also be a great option for this since it uses only one predictor variable and still has an accuracy of 93.5%, which is very good."
   ]
  },
  {
   "cell_type": "code",
   "execution_count": null,
   "id": "a0606b92-b7a1-45e7-b871-e6c6d9b55476",
   "metadata": {},
   "outputs": [],
   "source": []
  },
  {
   "cell_type": "markdown",
   "id": "5c93594b-df7a-439a-9ef1-7285f6a52e0b",
   "metadata": {},
   "source": [
    "References\n",
    "\n",
    "Abayomi Ogunbiyi, I. (2022). How the Python Lambda Function Works – Explained with Examples. [online] freeCodeCamp.org. Available at: https://www.freecodecamp.org/news/python-lambda-function-explained/ [Accessed 16 May 2024].\n",
    "\n",
    "Biostats. (n.d.). Test for normality – Shapiro-Wilk test – bioST@TS. [online] Available at: https://biostats.w.uib.no/test-for-normality-shapiro-wilks-test/ [Accessed 11 May 2024].\n",
    "\n",
    "Choubey, P. (2024). Goodman And Kruskal’s Gamma. [online] wallstreetmojo. Available at: https://www.wallstreetmojo.com/goodman-and-kruskals-gamma/#Assumptions [Accessed 12 May 2024].\n",
    "\n",
    "CueMath (n.d.). Critical Value - Formula, Definition, Examples, Types. [online] Cuemath. Available at: https://www.cuemath.com/data/critical-value/ [Accessed 11 May 2024].\n",
    "\n",
    "Easily, L.S. (2024). Fisher’s Exact Test: A Comprehensive Guide. [online] LEARN STATISTICS EASILY. Available at: https://statisticseasily.com/fishers-exact-test/ [Accessed 12 May 2024].\n",
    "\n",
    "Frost, J. (2018). Interpreting Correlation Coefficients. [online] Statistics By Jim. Available at: https://statisticsbyjim.com/basics/correlations/ [Accessed 16 May 2024].\n",
    "\n",
    "Frost, J. (n.d.). T Test Overview: How to Use & Examples. [online] Statistics By Jim. Available at: https://statisticsbyjim.com/hypothesis-testing/t-test/ [Accessed 10 May 2024].\n",
    "\n",
    "Malato, G. (2023). An Introduction to the Shapiro-Wilk Test for Normality | Built In. [online] builtin.com. Available at: https://builtin.com/data-science/shapiro-wilk-test [Accessed 11 May 2024].\n",
    "\n",
    "McDonald, J.H. (2014). Cochran–Mantel–Haenszel test - Handbook of Biological Statistics. [online] Bio Stat Handbook. Available at: https://www.biostathandbook.com/cmh.html [Accessed 12 May 2024].\n",
    "\n",
    "Mello, M. (2012). Qual teste estatístico devo usar? [online] Sobrevivendo na Ciência. Available at: https://marcoarmello.wordpress.com/2012/05/17/qualteste/ [Accessed 11 May 2024].\n",
    "\n",
    "Minitab support. (n.d.). What is Dunnett’s method for multiple comparisons? [online] Available at: https://support.minitab.com/en-us/minitab/help-and-how-to/statistical-modeling/anova/supporting-topics/multiple-comparisons/what-is-dunnett-s-method/ [Accessed 14 May 2024].\n",
    "\n",
    "Mishra, P., Pandey, C.M., Singh, U., Sahu, C., Keshri, A. and Gupta, A. (2019). Descriptive Statistics and Normality Tests for Statistical Data. Annals of Cardiac Anaesthesia, [online] 22(1), pp.67–72. doi:https://doi.org/10.4103%2Faca.ACA_157_18.\n",
    "\n",
    "Pandas.pydata.org. (n.d.). pandas.DataFrame.groupby — pandas 1.3.0 documentation. [online] Available at: https://pandas.pydata.org/pandas-docs/stable/reference/api/pandas.DataFrame.groupby.html [Accessed 13 May 2024].\n",
    "\n",
    "RCODER. (2023). Lilliefors normality test in R. [online] Available at: https://r-coder.com/lilliefors-test-r/ [Accessed 11 May 2024].\n",
    "\n",
    "Real-statistics.com. (2024). One-Sample Anderson-Darling Test. [online] Available at: https://real-statistics.com/non-parametric-tests/goodness-of-fit-tests/anderson-darling-test/ [Accessed 11 May 2024].\n",
    "\n",
    "scipy.github.io. (n.d.). scipy.stats.tukey_hsd — SciPy v1.14.0.dev Manual. [online] Available at: https://scipy.github.io/devdocs/reference/generated/scipy.stats.tukey_hsd.html [Accessed 14 May 2024].\n",
    "\n",
    "Scipy.org. (2019). scipy.stats.pearsonr — SciPy v1.3.2 Reference Guide. [online] Available at: https://docs.scipy.org/doc/scipy/reference/generated/scipy.stats.pearsonr.html [Accessed 17 May 2024].\n",
    "\n",
    "SPC for Excel. (n.d.). Chi Square Test for Association. [online] Available at: https://www.spcforexcel.com/help/statistical-tools/miscellaneous/chi-association/ [Accessed 12 May 2024].\n",
    "\n",
    "Statistics How To. (n.d.). ANOVA Test: Definition, Types, Examples. [online] Available at: https://www.statisticshowto.com/probability-and-statistics/hypothesis-testing/anova/#TwoWay [Accessed 14 May 2024].\n",
    "\n",
    "Support.minitab.com. (n.d.). Test for normality. [online] Available at: https://support.minitab.com/en-us/minitab/help-and-how-to/statistics/basic-statistics/supporting-topics/normality/test-for-normality/#:~:text=Kolmogorov-Smirnov%20normality%20test%20This%20test%20compares%20the%20ECDF [Accessed 11 May 2024].\n",
    "\n",
    "Watts, V. (2022). 11.4 One-Way ANOVA and Hypothesis Tests for Three or More Population Means. ecampusontario.pressbooks.pub. [online] Available at: https://ecampusontario.pressbooks.pub/introstats/chapter/11-4-one-way-anova-and-hypothesis-tests-for-three-or-more-population-means/ [Accessed 13 May 2024].\n",
    "\n",
    "www.sfu.ca. (n.d.). 7. Correlation and Scatterplots — Basic Analytics in Python. [online] Available at: https://www.sfu.ca/~mjbrydon/tutorials/BAinPy/08_correlation.html [Accessed 17 May 2024].\n",
    "\n",
    "Yadav, H. (2021). Multiple Linear Regression Implementation in Python. [online] Machine Learning with Python. Available at: https://medium.com/machine-learning-with-python/multiple-linear-regression-implementation-in-python-2de9b303fc0c [Accessed 17 May 2024].\n",
    "\n",
    "Zach (2020a). Confidence Interval for a Mean. [online] Statology. Available at: https://www.statology.org/confidence-interval-mean/.\n",
    "\n",
    "Zach (2020b). How to Perform a Shapiro-Wilk Test in Python. [online] Statology. Available at: https://www.statology.org/shapiro-wilk-test-python/ [Accessed 10 May 2024].\n",
    "\n",
    "Zach (2021a). How to Create a Contingency Table in Python. [online] Statology. Available at: https://www.statology.org/contingency-table-python/ [Accessed 12 May 2024].\n",
    "\n",
    "Zach (2021b). The Four Assumptions of a Chi-Square Test. [online] Statology. Available at: https://www.statology.org/chi-square-test-assumptions/ [Accessed 12 May 2024]."
   ]
  }
 ],
 "metadata": {
  "kernelspec": {
   "display_name": "Python 3 (ipykernel)",
   "language": "python",
   "name": "python3"
  },
  "language_info": {
   "codemirror_mode": {
    "name": "ipython",
    "version": 3
   },
   "file_extension": ".py",
   "mimetype": "text/x-python",
   "name": "python",
   "nbconvert_exporter": "python",
   "pygments_lexer": "ipython3",
   "version": "3.11.7"
  }
 },
 "nbformat": 4,
 "nbformat_minor": 5
}
